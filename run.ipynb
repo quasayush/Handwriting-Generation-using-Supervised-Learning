{
  "nbformat": 4,
  "nbformat_minor": 0,
  "metadata": {
    "colab": {
      "name": "diffusionmodelpwc.ipynb",
      "provenance": [],
      "collapsed_sections": [],
      "include_colab_link": true
    },
    "kernelspec": {
      "display_name": "Python 3",
      "name": "python3"
    },
    "language_info": {
      "name": "python"
    }
  },
  "cells": [
    {
      "cell_type": "markdown",
      "metadata": {
        "id": "view-in-github",
        "colab_type": "text"
      },
      "source": [
        "<a href=\"https://colab.research.google.com/github/quasayush/Handwriting-Generation-using-Supervised-Learning/blob/main/run.ipynb\" target=\"_parent\"><img src=\"https://colab.research.google.com/assets/colab-badge.svg\" alt=\"Open In Colab\"/></a>"
      ]
    },
    {
      "cell_type": "code",
      "metadata": {
        "colab": {
          "base_uri": "https://localhost:8080/"
        },
        "id": "k0sfVIsG-az8",
        "outputId": "86b62a88-cc5e-479a-ff67-4a3f39e70934"
      },
      "source": [
        "!git clone https://github.com/quasayush/Handwriting-Generation-using-Supervised-Learning.git"
      ],
      "execution_count": 9,
      "outputs": [
        {
          "output_type": "stream",
          "text": [
            "Cloning into 'Handwriting-Generation-using-Supervised-Learning'...\n",
            "remote: Enumerating objects: 92, done.\u001b[K\n",
            "remote: Counting objects: 100% (46/46), done.\u001b[K\n",
            "remote: Compressing objects: 100% (38/38), done.\u001b[K\n",
            "remote: Total 92 (delta 7), reused 43 (delta 4), pack-reused 46\u001b[K\n",
            "Unpacking objects: 100% (92/92), done.\n"
          ],
          "name": "stdout"
        }
      ]
    },
    {
      "cell_type": "code",
      "metadata": {
        "colab": {
          "base_uri": "https://localhost:8080/"
        },
        "id": "vzSooexCXgpK",
        "outputId": "dd3d7214-d98c-4428-d630-e59db08453bd"
      },
      "source": [
        "%cd /content/Handwriting-Generation-using-Supervised-Learning"
      ],
      "execution_count": 10,
      "outputs": [
        {
          "output_type": "stream",
          "text": [
            "/content/Handwriting-Generation-using-Supervised-Learning\n"
          ],
          "name": "stdout"
        }
      ]
    },
    {
      "cell_type": "code",
      "metadata": {
        "colab": {
          "base_uri": "https://localhost:8080/"
        },
        "id": "FN5p1yWu-jZe",
        "outputId": "d92e4238-5bc0-4e57-f364-662d5dd22b30"
      },
      "source": [
        "!pip install -r requirements.txt"
      ],
      "execution_count": 11,
      "outputs": [
        {
          "output_type": "stream",
          "text": [
            "Requirement already satisfied: tensorflow==2.3.0 in /usr/local/lib/python3.7/dist-packages (from -r requirements.txt (line 1)) (2.3.0)\n",
            "Requirement already satisfied: matplotlib==3.2.2 in /usr/local/lib/python3.7/dist-packages (from -r requirements.txt (line 2)) (3.2.2)\n",
            "Requirement already satisfied: numpy==1.18.5 in /usr/local/lib/python3.7/dist-packages (from -r requirements.txt (line 3)) (1.18.5)\n",
            "Requirement already satisfied: pillow==8.0.1 in /usr/local/lib/python3.7/dist-packages (from -r requirements.txt (line 4)) (8.0.1)\n",
            "Requirement already satisfied: h5py==2.10.0 in /usr/local/lib/python3.7/dist-packages (from -r requirements.txt (line 5)) (2.10.0)\n",
            "Requirement already satisfied: opt-einsum>=2.3.2 in /usr/local/lib/python3.7/dist-packages (from tensorflow==2.3.0->-r requirements.txt (line 1)) (3.3.0)\n",
            "Requirement already satisfied: six>=1.12.0 in /usr/local/lib/python3.7/dist-packages (from tensorflow==2.3.0->-r requirements.txt (line 1)) (1.15.0)\n",
            "Requirement already satisfied: google-pasta>=0.1.8 in /usr/local/lib/python3.7/dist-packages (from tensorflow==2.3.0->-r requirements.txt (line 1)) (0.2.0)\n",
            "Requirement already satisfied: protobuf>=3.9.2 in /usr/local/lib/python3.7/dist-packages (from tensorflow==2.3.0->-r requirements.txt (line 1)) (3.12.4)\n",
            "Requirement already satisfied: grpcio>=1.8.6 in /usr/local/lib/python3.7/dist-packages (from tensorflow==2.3.0->-r requirements.txt (line 1)) (1.32.0)\n",
            "Requirement already satisfied: absl-py>=0.7.0 in /usr/local/lib/python3.7/dist-packages (from tensorflow==2.3.0->-r requirements.txt (line 1)) (0.12.0)\n",
            "Requirement already satisfied: astunparse==1.6.3 in /usr/local/lib/python3.7/dist-packages (from tensorflow==2.3.0->-r requirements.txt (line 1)) (1.6.3)\n",
            "Requirement already satisfied: termcolor>=1.1.0 in /usr/local/lib/python3.7/dist-packages (from tensorflow==2.3.0->-r requirements.txt (line 1)) (1.1.0)\n",
            "Requirement already satisfied: scipy==1.4.1 in /usr/local/lib/python3.7/dist-packages (from tensorflow==2.3.0->-r requirements.txt (line 1)) (1.4.1)\n",
            "Requirement already satisfied: wheel>=0.26 in /usr/local/lib/python3.7/dist-packages (from tensorflow==2.3.0->-r requirements.txt (line 1)) (0.36.2)\n",
            "Requirement already satisfied: tensorflow-estimator<2.4.0,>=2.3.0 in /usr/local/lib/python3.7/dist-packages (from tensorflow==2.3.0->-r requirements.txt (line 1)) (2.3.0)\n",
            "Requirement already satisfied: keras-preprocessing<1.2,>=1.1.1 in /usr/local/lib/python3.7/dist-packages (from tensorflow==2.3.0->-r requirements.txt (line 1)) (1.1.2)\n",
            "Requirement already satisfied: wrapt>=1.11.1 in /usr/local/lib/python3.7/dist-packages (from tensorflow==2.3.0->-r requirements.txt (line 1)) (1.12.1)\n",
            "Requirement already satisfied: gast==0.3.3 in /usr/local/lib/python3.7/dist-packages (from tensorflow==2.3.0->-r requirements.txt (line 1)) (0.3.3)\n",
            "Requirement already satisfied: tensorboard<3,>=2.3.0 in /usr/local/lib/python3.7/dist-packages (from tensorflow==2.3.0->-r requirements.txt (line 1)) (2.4.1)\n",
            "Requirement already satisfied: pyparsing!=2.0.4,!=2.1.2,!=2.1.6,>=2.0.1 in /usr/local/lib/python3.7/dist-packages (from matplotlib==3.2.2->-r requirements.txt (line 2)) (2.4.7)\n",
            "Requirement already satisfied: kiwisolver>=1.0.1 in /usr/local/lib/python3.7/dist-packages (from matplotlib==3.2.2->-r requirements.txt (line 2)) (1.3.1)\n",
            "Requirement already satisfied: cycler>=0.10 in /usr/local/lib/python3.7/dist-packages (from matplotlib==3.2.2->-r requirements.txt (line 2)) (0.10.0)\n",
            "Requirement already satisfied: python-dateutil>=2.1 in /usr/local/lib/python3.7/dist-packages (from matplotlib==3.2.2->-r requirements.txt (line 2)) (2.8.1)\n",
            "Requirement already satisfied: setuptools in /usr/local/lib/python3.7/dist-packages (from protobuf>=3.9.2->tensorflow==2.3.0->-r requirements.txt (line 1)) (56.0.0)\n",
            "Requirement already satisfied: google-auth-oauthlib<0.5,>=0.4.1 in /usr/local/lib/python3.7/dist-packages (from tensorboard<3,>=2.3.0->tensorflow==2.3.0->-r requirements.txt (line 1)) (0.4.4)\n",
            "Requirement already satisfied: werkzeug>=0.11.15 in /usr/local/lib/python3.7/dist-packages (from tensorboard<3,>=2.3.0->tensorflow==2.3.0->-r requirements.txt (line 1)) (1.0.1)\n",
            "Requirement already satisfied: markdown>=2.6.8 in /usr/local/lib/python3.7/dist-packages (from tensorboard<3,>=2.3.0->tensorflow==2.3.0->-r requirements.txt (line 1)) (3.3.4)\n",
            "Requirement already satisfied: google-auth<2,>=1.6.3 in /usr/local/lib/python3.7/dist-packages (from tensorboard<3,>=2.3.0->tensorflow==2.3.0->-r requirements.txt (line 1)) (1.28.1)\n",
            "Requirement already satisfied: requests<3,>=2.21.0 in /usr/local/lib/python3.7/dist-packages (from tensorboard<3,>=2.3.0->tensorflow==2.3.0->-r requirements.txt (line 1)) (2.23.0)\n",
            "Requirement already satisfied: tensorboard-plugin-wit>=1.6.0 in /usr/local/lib/python3.7/dist-packages (from tensorboard<3,>=2.3.0->tensorflow==2.3.0->-r requirements.txt (line 1)) (1.8.0)\n",
            "Requirement already satisfied: requests-oauthlib>=0.7.0 in /usr/local/lib/python3.7/dist-packages (from google-auth-oauthlib<0.5,>=0.4.1->tensorboard<3,>=2.3.0->tensorflow==2.3.0->-r requirements.txt (line 1)) (1.3.0)\n",
            "Requirement already satisfied: importlib-metadata; python_version < \"3.8\" in /usr/local/lib/python3.7/dist-packages (from markdown>=2.6.8->tensorboard<3,>=2.3.0->tensorflow==2.3.0->-r requirements.txt (line 1)) (3.10.1)\n",
            "Requirement already satisfied: rsa<5,>=3.1.4; python_version >= \"3.6\" in /usr/local/lib/python3.7/dist-packages (from google-auth<2,>=1.6.3->tensorboard<3,>=2.3.0->tensorflow==2.3.0->-r requirements.txt (line 1)) (4.7.2)\n",
            "Requirement already satisfied: pyasn1-modules>=0.2.1 in /usr/local/lib/python3.7/dist-packages (from google-auth<2,>=1.6.3->tensorboard<3,>=2.3.0->tensorflow==2.3.0->-r requirements.txt (line 1)) (0.2.8)\n",
            "Requirement already satisfied: cachetools<5.0,>=2.0.0 in /usr/local/lib/python3.7/dist-packages (from google-auth<2,>=1.6.3->tensorboard<3,>=2.3.0->tensorflow==2.3.0->-r requirements.txt (line 1)) (4.2.1)\n",
            "Requirement already satisfied: idna<3,>=2.5 in /usr/local/lib/python3.7/dist-packages (from requests<3,>=2.21.0->tensorboard<3,>=2.3.0->tensorflow==2.3.0->-r requirements.txt (line 1)) (2.10)\n",
            "Requirement already satisfied: certifi>=2017.4.17 in /usr/local/lib/python3.7/dist-packages (from requests<3,>=2.21.0->tensorboard<3,>=2.3.0->tensorflow==2.3.0->-r requirements.txt (line 1)) (2020.12.5)\n",
            "Requirement already satisfied: chardet<4,>=3.0.2 in /usr/local/lib/python3.7/dist-packages (from requests<3,>=2.21.0->tensorboard<3,>=2.3.0->tensorflow==2.3.0->-r requirements.txt (line 1)) (3.0.4)\n",
            "Requirement already satisfied: urllib3!=1.25.0,!=1.25.1,<1.26,>=1.21.1 in /usr/local/lib/python3.7/dist-packages (from requests<3,>=2.21.0->tensorboard<3,>=2.3.0->tensorflow==2.3.0->-r requirements.txt (line 1)) (1.24.3)\n",
            "Requirement already satisfied: oauthlib>=3.0.0 in /usr/local/lib/python3.7/dist-packages (from requests-oauthlib>=0.7.0->google-auth-oauthlib<0.5,>=0.4.1->tensorboard<3,>=2.3.0->tensorflow==2.3.0->-r requirements.txt (line 1)) (3.1.0)\n",
            "Requirement already satisfied: zipp>=0.5 in /usr/local/lib/python3.7/dist-packages (from importlib-metadata; python_version < \"3.8\"->markdown>=2.6.8->tensorboard<3,>=2.3.0->tensorflow==2.3.0->-r requirements.txt (line 1)) (3.4.1)\n",
            "Requirement already satisfied: typing-extensions>=3.6.4; python_version < \"3.8\" in /usr/local/lib/python3.7/dist-packages (from importlib-metadata; python_version < \"3.8\"->markdown>=2.6.8->tensorboard<3,>=2.3.0->tensorflow==2.3.0->-r requirements.txt (line 1)) (3.7.4.3)\n",
            "Requirement already satisfied: pyasn1>=0.1.3 in /usr/local/lib/python3.7/dist-packages (from rsa<5,>=3.1.4; python_version >= \"3.6\"->google-auth<2,>=1.6.3->tensorboard<3,>=2.3.0->tensorflow==2.3.0->-r requirements.txt (line 1)) (0.4.8)\n"
          ],
          "name": "stdout"
        }
      ]
    },
    {
      "cell_type": "code",
      "metadata": {
        "colab": {
          "base_uri": "https://localhost:8080/"
        },
        "id": "EXZ7kxrAVSr8",
        "outputId": "5053b90d-821c-4fa6-d782-876f602f6f3e"
      },
      "source": [
        "%cd /content/Handwriting-Generation-using-Supervised-Learning"
      ],
      "execution_count": 12,
      "outputs": [
        {
          "output_type": "stream",
          "text": [
            "/content/Handwriting-Generation-using-Supervised-Learning\n"
          ],
          "name": "stdout"
        }
      ]
    },
    {
      "cell_type": "code",
      "metadata": {
        "colab": {
          "base_uri": "https://localhost:8080/"
        },
        "id": "ALCEq6Ti_eoX",
        "outputId": "ce3a1f89-3d1f-445d-8aa3-2bfbcd372838"
      },
      "source": [
        "!python inference.py "
      ],
      "execution_count": 20,
      "outputs": [
        {
          "output_type": "stream",
          "text": [
            "2021-05-06 13:11:37.752027: I tensorflow/stream_executor/platform/default/dso_loader.cc:48] Successfully opened dynamic library libcudart.so.10.1\n",
            "2021-05-06 13:11:39.772376: I tensorflow/stream_executor/platform/default/dso_loader.cc:48] Successfully opened dynamic library libcuda.so.1\n",
            "2021-05-06 13:11:39.787014: E tensorflow/stream_executor/cuda/cuda_driver.cc:314] failed call to cuInit: CUDA_ERROR_NO_DEVICE: no CUDA-capable device is detected\n",
            "2021-05-06 13:11:39.787074: I tensorflow/stream_executor/cuda/cuda_diagnostics.cc:156] kernel driver does not appear to be running on this host (170e53c7e5bc): /proc/driver/nvidia/version does not exist\n",
            "2021-05-06 13:11:39.787653: I tensorflow/core/platform/cpu_feature_guard.cc:142] This TensorFlow binary is optimized with oneAPI Deep Neural Network Library (oneDNN)to use the following CPU instructions in performance-critical operations:  AVX2 FMA\n",
            "To enable them in other operations, rebuild TensorFlow with the appropriate compiler flags.\n",
            "2021-05-06 13:11:39.794086: I tensorflow/core/platform/profile_utils/cpu_utils.cc:104] CPU Frequency: 2299995000 Hz\n",
            "2021-05-06 13:11:39.794349: I tensorflow/compiler/xla/service/service.cc:168] XLA service 0x55ba3b150840 initialized for platform Host (this does not guarantee that XLA will be used). Devices:\n",
            "2021-05-06 13:11:39.794386: I tensorflow/compiler/xla/service/service.cc:176]   StreamExecutor device (0): Host, Default Version\n"
          ],
          "name": "stdout"
        }
      ]
    },
    {
      "cell_type": "code",
      "metadata": {
        "colab": {
          "base_uri": "https://localhost:8080/",
          "height": 114
        },
        "id": "Xq3-vbhkAD9u",
        "outputId": "1ae13c31-caff-4f7c-a9f6-4da868ac80ae"
      },
      "source": [
        "from IPython.display import Image\n",
        "Image('/content/Handwriting-Generation-using-Supervised-Learning/assets/output.png')"
      ],
      "execution_count": 21,
      "outputs": [
        {
          "output_type": "execute_result",
          "data": {
            "image/png": "[encoded data removed]",
            "text/plain": [
              "<IPython.core.display.Image object>"
            ]
          },
          "metadata": {
            "tags": []
          },
          "execution_count": 21
        }
      ]
    },
    {
      "cell_type": "code",
      "metadata": {
        "colab": {
          "base_uri": "https://localhost:8080/"
        },
        "id": "i0jOIcZ2F2lO",
        "outputId": "22557a36-5298-411c-eee9-90de279aef35"
      },
      "source": [
        "from google.colab import drive\n",
        "drive.mount('/content/drive')"
      ],
      "execution_count": null,
      "outputs": [
        {
          "output_type": "stream",
          "text": [
            "Mounted at /content/drive\n"
          ],
          "name": "stdout"
        }
      ]
    },
    {
      "cell_type": "code",
      "metadata": {
        "id": "6hkD1iqoKKvz"
      },
      "source": [
        "!cp \"/content/drive/MyDrive/Colab Notebooks/dataset/ascii-all.tar.gz\" \"/content/Diffusion-Handwriting-Generation/data\""
      ],
      "execution_count": null,
      "outputs": []
    },
    {
      "cell_type": "code",
      "metadata": {
        "id": "JZngieprLcCu"
      },
      "source": [
        "!cp \"/content/drive/MyDrive/Colab Notebooks/dataset/lineImages-all.tar.gz\" \"/content/Diffusion-Handwriting-Generation/data\""
      ],
      "execution_count": null,
      "outputs": []
    },
    {
      "cell_type": "code",
      "metadata": {
        "id": "lJBWnInuLkTe"
      },
      "source": [
        "!cp \"/content/drive/MyDrive/Colab Notebooks/dataset/lineStrokes-all.tar.gz\" \"/content/Diffusion-Handwriting-Generation/data\""
      ],
      "execution_count": null,
      "outputs": []
    },
    {
      "cell_type": "code",
      "metadata": {
        "colab": {
          "base_uri": "https://localhost:8080/"
        },
        "id": "lk7BFDqhN3xT",
        "outputId": "e44a363d-635f-45ca-e2ff-f2a9af010378"
      },
      "source": [
        "%cd /content/Diffusion-Handwriting-Generation/data"
      ],
      "execution_count": null,
      "outputs": [
        {
          "output_type": "stream",
          "text": [
            "/content/Diffusion-Handwriting-Generation/data\n"
          ],
          "name": "stdout"
        }
      ]
    },
    {
      "cell_type": "code",
      "metadata": {
        "id": "vZKZZuU7N4Dm"
      },
      "source": [
        "import shutil\n",
        "shutil.unpack_archive(\"/content/Diffusion-Handwriting-Generation/data/ascii-all.tar.gz\", \"/content/Diffusion-Handwriting-Generation/data\")\n",
        "shutil.unpack_archive(\"/content/Diffusion-Handwriting-Generation/data/lineImages-all.tar.gz\", \"/content/Diffusion-Handwriting-Generation/data\")\n",
        "shutil.unpack_archive(\"/content/Diffusion-Handwriting-Generation/data/lineStrokes-all.tar.gz\", \"/content/Diffusion-Handwriting-Generation/data\")"
      ],
      "execution_count": null,
      "outputs": []
    },
    {
      "cell_type": "code",
      "metadata": {
        "colab": {
          "base_uri": "https://localhost:8080/"
        },
        "id": "xXE-8vraN4Kn",
        "outputId": "0a6312db-b279-4b1c-c038-21bcb91b8ede"
      },
      "source": [
        "%cd .."
      ],
      "execution_count": null,
      "outputs": [
        {
          "output_type": "stream",
          "text": [
            "/content/Diffusion-Handwriting-Generation\n"
          ],
          "name": "stdout"
        }
      ]
    },
    {
      "cell_type": "code",
      "metadata": {
        "colab": {
          "base_uri": "https://localhost:8080/"
        },
        "id": "qPW1PcNMLo8J",
        "outputId": "951aa624-cf11-4660-8efe-baf03f210220"
      },
      "source": [
        "!python preprocessing.py"
      ],
      "execution_count": 19,
      "outputs": [
        {
          "output_type": "stream",
          "text": [
            "2021-05-06 13:11:26.506184: I tensorflow/stream_executor/platform/default/dso_loader.cc:48] Successfully opened dynamic library libcudart.so.10.1\n",
            "Traceback (most recent call last):\n",
            "  File \"preprocessing.py\", line 180, in <module>\n",
            "    main()\n",
            "  File \"preprocessing.py\", line 163, in main\n",
            "    labels = create_dict(t_path)\n",
            "  File \"preprocessing.py\", line 74, in create_dict\n",
            "    for dir in os.listdir(path):\n",
            "FileNotFoundError: [Errno 2] No such file or directory: './data/ascii-all'\n"
          ],
          "name": "stdout"
        }
      ]
    },
    {
      "cell_type": "code",
      "metadata": {
        "colab": {
          "background_save": true,
          "base_uri": "https://localhost:8080/"
        },
        "id": "phzhI26fNUop",
        "outputId": "e287bfa7-0560-4015-8144-73c81e6665d1"
      },
      "source": [
        "!python train.py"
      ],
      "execution_count": null,
      "outputs": [
        {
          "output_type": "stream",
          "text": [
            "2021-04-06 06:25:04.667771: I tensorflow/stream_executor/platform/default/dso_loader.cc:48] Successfully opened dynamic library libcudart.so.10.1\n",
            "2021-04-06 06:25:06.759410: I tensorflow/stream_executor/platform/default/dso_loader.cc:48] Successfully opened dynamic library libcuda.so.1\n",
            "2021-04-06 06:25:06.795319: I tensorflow/stream_executor/cuda/cuda_gpu_executor.cc:982] successful NUMA node read from SysFS had negative value (-1), but there must be at least one NUMA node, so returning NUMA node zero\n",
            "2021-04-06 06:25:06.796087: I tensorflow/core/common_runtime/gpu/gpu_device.cc:1716] Found device 0 with properties: \n",
            "pciBusID: 0000:00:04.0 name: Tesla K80 computeCapability: 3.7\n",
            "coreClock: 0.8235GHz coreCount: 13 deviceMemorySize: 11.17GiB deviceMemoryBandwidth: 223.96GiB/s\n",
            "2021-04-06 06:25:06.796161: I tensorflow/stream_executor/platform/default/dso_loader.cc:48] Successfully opened dynamic library libcudart.so.10.1\n",
            "2021-04-06 06:25:06.799108: I tensorflow/stream_executor/platform/default/dso_loader.cc:48] Successfully opened dynamic library libcublas.so.10\n",
            "2021-04-06 06:25:06.803789: I tensorflow/stream_executor/platform/default/dso_loader.cc:48] Successfully opened dynamic library libcufft.so.10\n",
            "2021-04-06 06:25:06.804288: I tensorflow/stream_executor/platform/default/dso_loader.cc:48] Successfully opened dynamic library libcurand.so.10\n",
            "2021-04-06 06:25:06.807415: I tensorflow/stream_executor/platform/default/dso_loader.cc:48] Successfully opened dynamic library libcusolver.so.10\n",
            "2021-04-06 06:25:06.809328: I tensorflow/stream_executor/platform/default/dso_loader.cc:48] Successfully opened dynamic library libcusparse.so.10\n",
            "2021-04-06 06:25:06.813633: I tensorflow/stream_executor/platform/default/dso_loader.cc:48] Successfully opened dynamic library libcudnn.so.7\n",
            "2021-04-06 06:25:06.813768: I tensorflow/stream_executor/cuda/cuda_gpu_executor.cc:982] successful NUMA node read from SysFS had negative value (-1), but there must be at least one NUMA node, so returning NUMA node zero\n",
            "2021-04-06 06:25:06.814745: I tensorflow/stream_executor/cuda/cuda_gpu_executor.cc:982] successful NUMA node read from SysFS had negative value (-1), but there must be at least one NUMA node, so returning NUMA node zero\n",
            "2021-04-06 06:25:06.815442: I tensorflow/core/common_runtime/gpu/gpu_device.cc:1858] Adding visible gpu devices: 0\n",
            "2021-04-06 06:25:06.815913: I tensorflow/core/platform/cpu_feature_guard.cc:142] This TensorFlow binary is optimized with oneAPI Deep Neural Network Library (oneDNN)to use the following CPU instructions in performance-critical operations:  AVX2 FMA\n",
            "To enable them in other operations, rebuild TensorFlow with the appropriate compiler flags.\n",
            "2021-04-06 06:25:06.821623: I tensorflow/core/platform/profile_utils/cpu_utils.cc:104] CPU Frequency: 2299995000 Hz\n",
            "2021-04-06 06:25:06.821881: I tensorflow/compiler/xla/service/service.cc:168] XLA service 0x5560d9b22bc0 initialized for platform Host (this does not guarantee that XLA will be used). Devices:\n",
            "2021-04-06 06:25:06.821917: I tensorflow/compiler/xla/service/service.cc:176]   StreamExecutor device (0): Host, Default Version\n",
            "2021-04-06 06:25:06.875771: I tensorflow/stream_executor/cuda/cuda_gpu_executor.cc:982] successful NUMA node read from SysFS had negative value (-1), but there must be at least one NUMA node, so returning NUMA node zero\n",
            "2021-04-06 06:25:06.876687: I tensorflow/compiler/xla/service/service.cc:168] XLA service 0x5560d9b22d80 initialized for platform CUDA (this does not guarantee that XLA will be used). Devices:\n",
            "2021-04-06 06:25:06.876723: I tensorflow/compiler/xla/service/service.cc:176]   StreamExecutor device (0): Tesla K80, Compute Capability 3.7\n",
            "2021-04-06 06:25:06.876909: I tensorflow/stream_executor/cuda/cuda_gpu_executor.cc:982] successful NUMA node read from SysFS had negative value (-1), but there must be at least one NUMA node, so returning NUMA node zero\n",
            "2021-04-06 06:25:06.877709: I tensorflow/core/common_runtime/gpu/gpu_device.cc:1716] Found device 0 with properties: \n",
            "pciBusID: 0000:00:04.0 name: Tesla K80 computeCapability: 3.7\n",
            "coreClock: 0.8235GHz coreCount: 13 deviceMemorySize: 11.17GiB deviceMemoryBandwidth: 223.96GiB/s\n",
            "2021-04-06 06:25:06.877765: I tensorflow/stream_executor/platform/default/dso_loader.cc:48] Successfully opened dynamic library libcudart.so.10.1\n",
            "2021-04-06 06:25:06.877834: I tensorflow/stream_executor/platform/default/dso_loader.cc:48] Successfully opened dynamic library libcublas.so.10\n",
            "2021-04-06 06:25:06.877870: I tensorflow/stream_executor/platform/default/dso_loader.cc:48] Successfully opened dynamic library libcufft.so.10\n",
            "2021-04-06 06:25:06.877907: I tensorflow/stream_executor/platform/default/dso_loader.cc:48] Successfully opened dynamic library libcurand.so.10\n",
            "2021-04-06 06:25:06.877943: I tensorflow/stream_executor/platform/default/dso_loader.cc:48] Successfully opened dynamic library libcusolver.so.10\n",
            "2021-04-06 06:25:06.877987: I tensorflow/stream_executor/platform/default/dso_loader.cc:48] Successfully opened dynamic library libcusparse.so.10\n",
            "2021-04-06 06:25:06.878022: I tensorflow/stream_executor/platform/default/dso_loader.cc:48] Successfully opened dynamic library libcudnn.so.7\n",
            "2021-04-06 06:25:06.878106: I tensorflow/stream_executor/cuda/cuda_gpu_executor.cc:982] successful NUMA node read from SysFS had negative value (-1), but there must be at least one NUMA node, so returning NUMA node zero\n",
            "2021-04-06 06:25:06.878893: I tensorflow/stream_executor/cuda/cuda_gpu_executor.cc:982] successful NUMA node read from SysFS had negative value (-1), but there must be at least one NUMA node, so returning NUMA node zero\n",
            "2021-04-06 06:25:06.879638: I tensorflow/core/common_runtime/gpu/gpu_device.cc:1858] Adding visible gpu devices: 0\n",
            "2021-04-06 06:25:06.879697: I tensorflow/stream_executor/platform/default/dso_loader.cc:48] Successfully opened dynamic library libcudart.so.10.1\n",
            "2021-04-06 06:25:07.325908: I tensorflow/core/common_runtime/gpu/gpu_device.cc:1257] Device interconnect StreamExecutor with strength 1 edge matrix:\n",
            "2021-04-06 06:25:07.325975: I tensorflow/core/common_runtime/gpu/gpu_device.cc:1263]      0 \n",
            "2021-04-06 06:25:07.326004: I tensorflow/core/common_runtime/gpu/gpu_device.cc:1276] 0:   N \n",
            "2021-04-06 06:25:07.326280: I tensorflow/stream_executor/cuda/cuda_gpu_executor.cc:982] successful NUMA node read from SysFS had negative value (-1), but there must be at least one NUMA node, so returning NUMA node zero\n",
            "2021-04-06 06:25:07.327088: I tensorflow/stream_executor/cuda/cuda_gpu_executor.cc:982] successful NUMA node read from SysFS had negative value (-1), but there must be at least one NUMA node, so returning NUMA node zero\n",
            "2021-04-06 06:25:07.327774: W tensorflow/core/common_runtime/gpu/gpu_bfc_allocator.cc:39] Overriding allow_growth setting because the TF_FORCE_GPU_ALLOW_GROWTH environment variable is set. Original config value was 0.\n",
            "2021-04-06 06:25:07.327835: I tensorflow/core/common_runtime/gpu/gpu_device.cc:1402] Created TensorFlow device (/job:localhost/replica:0/task:0/device:GPU:0 with 10626 MB memory) -> physical GPU (device: 0, name: Tesla K80, pci bus id: 0000:00:04.0, compute capability: 3.7)\n",
            "tcmalloc: large alloc 1312423936 bytes == 0x556182928000 @  0x7fd2d4bd01e7 0x7fd2d13ab631 0x7fd2d140fcc8 0x7fd2d1412e08 0x7fd2d14133e5 0x7fd2d14aa68d 0x5560d845e050 0x5560d845dde0 0x5560d84d2244 0x5560d845f69a 0x5560d84d1e50 0x5560d845f69a 0x5560d84cda45 0x5560d84ccb0e 0x5560d84cc813 0x5560d8596592 0x5560d859690d 0x5560d85967b6 0x5560d856e103 0x5560d856ddac 0x7fd2d39babf7 0x5560d856dc8a\n",
            "2021-04-06 06:25:37.354997: W tensorflow/core/framework/cpu_allocator_impl.cc:81] Allocation of 1312416000 exceeds 10% of free system memory.\n",
            "tcmalloc: large alloc 1312423936 bytes == 0x5561d0cc8000 @  0x7fd2d4bb2b6b 0x7fd2d4bd2379 0x7fd2b916b287 0x7fd2aa699c4f 0x7fd2aa7230b2 0x7fd2b7fc7baf 0x7fd2b7fcc9ad 0x7fd2b7fc02b7 0x7fd2b7fc2846 0x7fd2b7f31c87 0x7fd2aa53d450 0x7fd2aa53db21 0x7fd2aef07469 0x7fd2aeeccc0f 0x7fd2aeecd830 0x7fd2aef01434 0x7fd2aeeca1ce 0x7fd2aeecbfde 0x7fd2aeebd14d 0x7fd2aeb15fa8 0x7fd2aeab1342 0x7fd2a8ff9f27 0x7fd2a901d239 0x5560d845e050 0x5560d845dde0 0x5560d84d2244 0x5560d84ccb0e 0x5560d839ee2b 0x5560d84cf1e6 0x5560d84cce0d 0x5560d845fe11\n",
            "2021-04-06 06:25:38.104156: I tensorflow/stream_executor/platform/default/dso_loader.cc:48] Successfully opened dynamic library libcudnn.so.7\n",
            "2021-04-06 06:25:39.087128: I tensorflow/stream_executor/platform/default/dso_loader.cc:48] Successfully opened dynamic library libcublas.so.10\n",
            "tcmalloc: large alloc 1362493440 bytes == 0x5562bf7f2000 @  0x7fd2d4bd01e7 0x7fd2d13ab631 0x7fd2d140fcc8 0x7fd2d140fde3 0x7fd2d14aded8 0x7fd2d14ae734 0x7fd2d14ae882 0x5560d84602f8 0x7fd2d13fb53d 0x5560d845dfd7 0x5560d845dde0 0x5560d84d1ac2 0x5560d84ccb0e 0x5560d845f77a 0x5560d84ce86a 0x5560d845f69a 0x5560d84d1e50 0x5560d845f69a 0x5560d84cda45 0x5560d84ccb0e 0x5560d84cc813 0x5560d8596592 0x5560d859690d 0x5560d85967b6 0x5560d856e103 0x5560d856ddac 0x7fd2d39babf7 0x5560d856dc8a\n",
            "Iteration 1000, Loss 1.256432, Time 816s\n",
            "Iteration 2000, Loss 0.657604, Time 1611s\n",
            "Iteration 3000, Loss 0.904418, Time 2405s\n",
            "Iteration 4000, Loss 0.571543, Time 3203s\n",
            "Iteration 5000, Loss 0.424044, Time 4003s\n",
            "Iteration 6000, Loss 0.402058, Time 4802s\n"
          ],
          "name": "stdout"
        }
      ]
    },
    {
      "cell_type": "code",
      "metadata": {
        "id": "rrcYcjKLPQ_b",
        "colab": {
          "base_uri": "https://localhost:8080/"
        },
        "outputId": "2b2be6a5-c9e0-4826-e182-29cbd6137e2d"
      },
      "source": [
        "!pip install --no-use-pep517 pyinstaller"
      ],
      "execution_count": null,
      "outputs": [
        {
          "output_type": "stream",
          "text": [
            "Collecting pyinstaller\n",
            "\u001b[?25l  Downloading https://files.pythonhosted.org/packages/b6/27/a006fcadba0db30819c968eb8decb4937cda398ca7a44d8874172cdc228a/pyinstaller-4.3.tar.gz (3.7MB)\n",
            "\u001b[K     |████████████████████████████████| 3.7MB 20.4MB/s \n",
            "\u001b[?25h  Installing build dependencies ... \u001b[?25l\u001b[?25hdone\n",
            "  Getting requirements to build wheel ... \u001b[?25l\u001b[?25hdone\n",
            "    Preparing wheel metadata ... \u001b[?25l\u001b[?25hdone\n",
            "Collecting altgraph\n",
            "  Downloading https://files.pythonhosted.org/packages/ee/3d/bfca21174b162f6ce674953f1b7a640c1498357fa6184776029557c25399/altgraph-0.17-py2.py3-none-any.whl\n",
            "Requirement already satisfied: importlib-metadata; python_version < \"3.8\" in /usr/local/lib/python3.7/dist-packages (from pyinstaller) (3.10.1)\n",
            "Requirement already satisfied: setuptools in /usr/local/lib/python3.7/dist-packages (from pyinstaller) (56.0.0)\n",
            "Collecting pyinstaller-hooks-contrib>=2020.6\n",
            "\u001b[?25l  Downloading https://files.pythonhosted.org/packages/27/c7/58a634d861e4744ac62dca4a4992ace8def8b05dab91e6b25e5043e79acf/pyinstaller_hooks_contrib-2021.1-py2.py3-none-any.whl (181kB)\n",
            "\u001b[K     |████████████████████████████████| 184kB 55.4MB/s \n",
            "\u001b[?25hRequirement already satisfied: zipp>=0.5 in /usr/local/lib/python3.7/dist-packages (from importlib-metadata; python_version < \"3.8\"->pyinstaller) (3.4.1)\n",
            "Requirement already satisfied: typing-extensions>=3.6.4; python_version < \"3.8\" in /usr/local/lib/python3.7/dist-packages (from importlib-metadata; python_version < \"3.8\"->pyinstaller) (3.7.4.3)\n",
            "Building wheels for collected packages: pyinstaller\n",
            "  Building wheel for pyinstaller (PEP 517) ... \u001b[?25l\u001b[?25hdone\n",
            "  Created wheel for pyinstaller: filename=pyinstaller-4.3-cp37-none-any.whl size=2457297 sha256=e8e125541ae95a96ab493817228a21a7d836a9097a019675a13e31af220c1800\n",
            "  Stored in directory: /root/.cache/pip/wheels/4e/d9/60/db7ac8941a22cb24131ec3cf40d094b9984518671f85b93780\n",
            "Successfully built pyinstaller\n",
            "Installing collected packages: altgraph, pyinstaller-hooks-contrib, pyinstaller\n",
            "Successfully installed altgraph-0.17 pyinstaller-4.3 pyinstaller-hooks-contrib-2021.1\n"
          ],
          "name": "stdout"
        }
      ]
    },
    {
      "cell_type": "code",
      "metadata": {
        "colab": {
          "base_uri": "https://localhost:8080/"
        },
        "id": "0pVY6tyjifLr",
        "outputId": "d77992c8-f182-4dc4-c7a6-29ec2546ccb5"
      },
      "source": [
        "!pyinstaller --onefile inference.py"
      ],
      "execution_count": 12,
      "outputs": [
        {
          "output_type": "stream",
          "text": [
            "34 INFO: PyInstaller: 4.3\n",
            "34 INFO: Python: 3.7.10\n",
            "34 INFO: Platform: Linux-4.19.112+-x86_64-with-Ubuntu-18.04-bionic\n",
            "35 INFO: wrote /content/Handwriting-Generation-using-Supervised-Learning/inference.spec\n",
            "36 INFO: UPX is not available.\n",
            "38 INFO: Extending PYTHONPATH with paths\n",
            "['/content/Handwriting-Generation-using-Supervised-Learning',\n",
            " '/content/Handwriting-Generation-using-Supervised-Learning']\n",
            "52 INFO: checking Analysis\n",
            "52 INFO: Building Analysis because Analysis-00.toc is non existent\n",
            "52 INFO: Initializing module dependency graph...\n",
            "55 INFO: Caching module graph hooks...\n",
            "58 WARNING: Several hooks defined for module 'win32ctypes.core'. Please take care they do not conflict.\n",
            "60 INFO: Analyzing base_library.zip ...\n",
            "2032 INFO: Processing pre-find module path hook distutils from '/usr/local/lib/python3.7/dist-packages/PyInstaller/hooks/pre_find_module_path/hook-distutils.py'.\n",
            "2032 INFO: distutils: retargeting to non-venv dir '/usr/lib/python3.7'\n",
            "3375 INFO: Caching module dependency graph...\n",
            "3485 INFO: running Analysis Analysis-00.toc\n",
            "3566 INFO: Analyzing /content/Handwriting-Generation-using-Supervised-Learning/inference.py\n",
            "3637 INFO: Processing pre-find module path hook site from '/usr/local/lib/python3.7/dist-packages/PyInstaller/hooks/pre_find_module_path/hook-site.py'.\n",
            "3637 INFO: site: retargeting to fake-dir '/usr/local/lib/python3.7/dist-packages/PyInstaller/fake-modules'\n",
            "4150 INFO: Processing pre-safe import module hook six.moves from '/usr/local/lib/python3.7/dist-packages/PyInstaller/hooks/pre_safe_import_module/hook-six.moves.py'.\n",
            "23666 INFO: Processing pre-safe import module hook urllib3.packages.six.moves from '/usr/local/lib/python3.7/dist-packages/PyInstaller/hooks/pre_safe_import_module/hook-urllib3.packages.six.moves.py'.\n",
            "42136 INFO: Processing pre-safe import module hook gi.repository.GObject from '/usr/local/lib/python3.7/dist-packages/PyInstaller/hooks/pre_safe_import_module/hook-gi.repository.GObject.py'.\n",
            "42137 INFO: Processing pre-safe import module hook gi.repository.Gtk from '/usr/local/lib/python3.7/dist-packages/PyInstaller/hooks/pre_safe_import_module/hook-gi.repository.Gtk.py'.\n",
            "71883 INFO: Processing pre-safe import module hook gi.repository.Gio from '/usr/local/lib/python3.7/dist-packages/PyInstaller/hooks/pre_safe_import_module/hook-gi.repository.Gio.py'.\n",
            "122217 INFO: Processing module hooks...\n",
            "122217 INFO: Loading module hook 'hook-google.cloud.storage.py' from '/usr/local/lib/python3.7/dist-packages/_pyinstaller_hooks_contrib/hooks/stdhooks'...\n",
            "122218 INFO: Loading module hook 'hook-nbformat.py' from '/usr/local/lib/python3.7/dist-packages/_pyinstaller_hooks_contrib/hooks/stdhooks'...\n",
            "122249 INFO: Loading module hook 'hook-lxml.py' from '/usr/local/lib/python3.7/dist-packages/_pyinstaller_hooks_contrib/hooks/stdhooks'...\n",
            "122625 INFO: Loading module hook 'hook-notebook.py' from '/usr/local/lib/python3.7/dist-packages/_pyinstaller_hooks_contrib/hooks/stdhooks'...\n",
            "123498 INFO: Loading module hook 'hook-httplib2.py' from '/usr/local/lib/python3.7/dist-packages/_pyinstaller_hooks_contrib/hooks/stdhooks'...\n",
            "123500 INFO: Loading module hook 'hook-tables.py' from '/usr/local/lib/python3.7/dist-packages/_pyinstaller_hooks_contrib/hooks/stdhooks'...\n",
            "123500 INFO: Loading module hook 'hook-googleapiclient.model.py' from '/usr/local/lib/python3.7/dist-packages/_pyinstaller_hooks_contrib/hooks/stdhooks'...\n",
            "123502 INFO: Loading module hook 'hook-h5py.py' from '/usr/local/lib/python3.7/dist-packages/_pyinstaller_hooks_contrib/hooks/stdhooks'...\n",
            "123503 INFO: Loading module hook 'hook-torch.py' from '/usr/local/lib/python3.7/dist-packages/_pyinstaller_hooks_contrib/hooks/stdhooks'...\n",
            "123625 INFO: Loading module hook 'hook-zmq.py' from '/usr/local/lib/python3.7/dist-packages/_pyinstaller_hooks_contrib/hooks/stdhooks'...\n",
            "123824 INFO: Loading module hook 'hook-lxml.etree.py' from '/usr/local/lib/python3.7/dist-packages/_pyinstaller_hooks_contrib/hooks/stdhooks'...\n",
            "123824 INFO: Loading module hook 'hook-google.cloud.py' from '/usr/local/lib/python3.7/dist-packages/_pyinstaller_hooks_contrib/hooks/stdhooks'...\n",
            "123825 INFO: Loading module hook 'hook-jsonschema.py' from '/usr/local/lib/python3.7/dist-packages/_pyinstaller_hooks_contrib/hooks/stdhooks'...\n",
            "123832 INFO: Loading module hook 'hook-pyarrow.py' from '/usr/local/lib/python3.7/dist-packages/_pyinstaller_hooks_contrib/hooks/stdhooks'...\n",
            "123900 INFO: Loading module hook 'hook-pycparser.py' from '/usr/local/lib/python3.7/dist-packages/_pyinstaller_hooks_contrib/hooks/stdhooks'...\n",
            "123901 INFO: Loading module hook 'hook-openpyxl.py' from '/usr/local/lib/python3.7/dist-packages/_pyinstaller_hooks_contrib/hooks/stdhooks'...\n",
            "123936 INFO: Loading module hook 'hook-pytest.py' from '/usr/local/lib/python3.7/dist-packages/_pyinstaller_hooks_contrib/hooks/stdhooks'...\n",
            "124651 INFO: Loading module hook 'hook-IPython.py' from '/usr/local/lib/python3.7/dist-packages/_pyinstaller_hooks_contrib/hooks/stdhooks'...\n",
            "124994 INFO: Loading module hook 'hook-tensorflow.py' from '/usr/local/lib/python3.7/dist-packages/_pyinstaller_hooks_contrib/hooks/stdhooks'...\n",
            "2021-05-06 06:38:00.308529: I tensorflow/stream_executor/platform/default/dso_loader.cc:48] Successfully opened dynamic library libcudart.so.10.1\n",
            "129304 WARNING: Hidden import \"tensorflow._api.v2.compat.v2.compat.v1.estimator.experimental\" not found!\n",
            "129576 WARNING: Hidden import \"tensorflow._api.v2.compat.v1.compat.v1.keras.applications.mobilenet\" not found!\n",
            "129858 WARNING: Hidden import \"tensorflow._api.v2.compat.v2.keras.applications.mobilenet_v2\" not found!\n",
            "129879 WARNING: Hidden import \"tensorflow._api.v2.compat.v2.keras.models\" not found!\n",
            "129936 WARNING: Hidden import \"tensorflow._api.v2.compat.v2.compat.v2.keras.applications.inception_v3\" not found!\n",
            "129955 WARNING: Hidden import \"tensorflow._api.v2.compat.v1.keras.preprocessing.sequence\" not found!\n",
            "130146 WARNING: Hidden import \"tensorflow._api.v2.compat.v1.compat.v2.keras.applications\" not found!\n",
            "130146 WARNING: Hidden import \"tensorflow._api.v2.compat.v2.compat.v2.keras.applications.inception_resnet_v2\" not found!\n",
            "130213 WARNING: Hidden import \"tensorflow._api.v2.compat.v1.compat.v1.keras.applications\" not found!\n",
            "130214 WARNING: Hidden import \"tensorflow._api.v2.compat.v1.compat.v1.keras.models\" not found!\n",
            "130237 WARNING: Hidden import \"tensorflow._api.v2.compat.v2.compat.v1.keras.utils\" not found!\n",
            "130238 WARNING: Hidden import \"tensorflow._api.v2.compat.v1.compat.v1.keras.applications.densenet\" not found!\n",
            "130402 WARNING: Hidden import \"tensorflow._api.v2.compat.v1.compat.v1.keras.applications.vgg19\" not found!\n",
            "130477 WARNING: Hidden import \"tensorflow._api.v2.compat.v2.compat.v1.v1\" not found!\n",
            "130489 WARNING: Hidden import \"tensorflow._api.v2.compat.v1.keras.backend\" not found!\n",
            "130545 WARNING: Hidden import \"tensorflow._api.v2.compat.v2.compat.v2.keras.layers.experimental\" not found!\n",
            "130545 WARNING: Hidden import \"tensorflow._api.v2.compat.v1.keras.applications.mobilenet_v2\" not found!\n",
            "130545 WARNING: Hidden import \"tensorflow._api.v2.compat.v1.compat.v2.keras.applications.imagenet_utils\" not found!\n",
            "130546 WARNING: Hidden import \"tensorflow._api.v2.compat.v1.keras.applications.nasnet\" not found!\n",
            "130550 WARNING: Hidden import \"tensorflow._api.v2.compat.v1.compat.v2.summary\" not found!\n",
            "130552 WARNING: Hidden import \"tensorflow._api.v2.compat.v1.keras.applications.vgg16\" not found!\n",
            "130553 WARNING: Hidden import \"tensorflow._api.v2.compat.v2.keras.activations\" not found!\n",
            "130553 WARNING: Hidden import \"tensorflow._api.v2.compat.v1.keras.applications.efficientnet\" not found!\n",
            "130557 WARNING: Hidden import \"tensorflow._api.v2.compat.v2.compat.v2.keras.applications.vgg16\" not found!\n",
            "130615 WARNING: Hidden import \"tensorflow._api.v2.compat.v2.keras.applications.resnet\" not found!\n",
            "130616 WARNING: Hidden import \"tensorflow._api.v2.compat.v2.compat.v2.keras.optimizers.schedules\" not found!\n",
            "130616 WARNING: Hidden import \"tensorflow._api.v2.compat.v2.compat.v2.keras.applications.mobilenet\" not found!\n",
            "130684 WARNING: Hidden import \"tensorflow._api.v2.compat.v2.compat.v2.keras.applications\" not found!\n",
            "130908 WARNING: Hidden import \"tensorflow._api.v2.compat.v1.compat.v1.keras.wrappers\" not found!\n",
            "130909 WARNING: Hidden import \"tensorflow._api.v2.compat.v1.compat.v1.keras.datasets.fashion_mnist\" not found!\n",
            "130911 WARNING: Hidden import \"tensorflow._api.v2.compat.v1.estimator.experimental\" not found!\n",
            "130911 WARNING: Hidden import \"tensorflow._api.v2.compat.v2.compat.v1.keras\" not found!\n",
            "130912 WARNING: Hidden import \"tensorflow._api.v2.compat.v2.compat.v1.keras.preprocessing.image\" not found!\n",
            "131030 WARNING: Hidden import \"tensorflow._api.v2.compat.v2.keras.datasets.imdb\" not found!\n",
            "131045 WARNING: Hidden import \"tensorflow._api.v2.compat.v2.compat.v2.keras.losses\" not found!\n",
            "131289 WARNING: Hidden import \"tensorflow._api.v2.compat.v2.keras.applications.xception\" not found!\n",
            "131289 WARNING: Hidden import \"tensorflow._api.v2.compat.v2.keras.preprocessing.text\" not found!\n",
            "131289 WARNING: Hidden import \"tensorflow._api.v2.compat.v1.compat.v1.keras.applications.resnet_v2\" not found!\n",
            "131298 WARNING: Hidden import \"tensorflow._api.v2.compat.v1.compat.v1.keras.preprocessing.image\" not found!\n",
            "131362 WARNING: Hidden import \"tensorflow._api.v2.compat.v1.compat.v1.keras.applications.imagenet_utils\" not found!\n",
            "131365 WARNING: Hidden import \"tensorflow._api.v2.compat.v2.compat.v2.keras.applications.nasnet\" not found!\n",
            "131422 WARNING: Hidden import \"tensorflow._api.v2.compat.v1.compat.v1.keras.applications.inception_v3\" not found!\n",
            "131423 WARNING: Hidden import \"tensorflow._api.v2.compat.v2.compat.v1.keras.applications.xception\" not found!\n",
            "131424 WARNING: Hidden import \"tensorflow._api.v2.compat.v2.compat.v1.estimator.inputs\" not found!\n",
            "131427 WARNING: Hidden import \"tensorflow._api.v2.compat.v1.compat.v2.keras.applications.resnet_v2\" not found!\n",
            "131428 WARNING: Hidden import \"tensorflow._api.v2.compat.v2.compat.v1.keras.datasets.imdb\" not found!\n",
            "131454 WARNING: Hidden import \"tensorflow._api.v2.compat.v2.compat.v1.keras.activations\" not found!\n",
            "131455 WARNING: Hidden import \"tensorflow._api.v2.compat.v2.compat.v2.keras.regularizers\" not found!\n",
            "131456 WARNING: Hidden import \"tensorflow._api.v2.compat.v1.keras.activations\" not found!\n",
            "131456 WARNING: Hidden import \"tensorflow._api.v2.compat.v1.compat.v2.keras.mixed_precision.experimental\" not found!\n",
            "131456 WARNING: Hidden import \"tensorflow._api.v2.compat.v2.compat.v2.keras.applications.vgg19\" not found!\n",
            "131458 WARNING: Hidden import \"tensorflow._api.v2.compat.v1.keras.datasets.fashion_mnist\" not found!\n",
            "131458 WARNING: Hidden import \"tensorflow._api.v2.compat.v1.compat.v1.keras.preprocessing.sequence\" not found!\n",
            "131460 WARNING: Hidden import \"tensorflow._api.v2.compat.v2.compat.v1.keras.datasets.fashion_mnist\" not found!\n",
            "131462 WARNING: Hidden import \"tensorflow._api.v2.compat.v2.compat.v2.estimator.experimental\" not found!\n",
            "131463 WARNING: Hidden import \"tensorflow._api.v2.compat.v1.compat.v1.keras.constraints\" not found!\n",
            "131580 WARNING: Hidden import \"tensorflow._api.v2.compat.v2.compat.v1.keras.models\" not found!\n",
            "131580 WARNING: Hidden import \"tensorflow._api.v2.compat.v1.keras.layers\" not found!\n",
            "131581 WARNING: Hidden import \"tensorflow._api.v2.compat.v2.compat.v1.keras.layers\" not found!\n",
            "131649 WARNING: Hidden import \"tensorflow._api.v2.compat.v2.compat.v2.keras.applications.resnet50\" not found!\n",
            "131715 WARNING: Hidden import \"tensorflow._api.v2.compat.v1.compat.v2.keras.optimizers\" not found!\n",
            "131716 WARNING: Hidden import \"tensorflow._api.v2.compat.v1.v1\" not found!\n",
            "131855 WARNING: Hidden import \"tensorflow._api.v2.compat.v1.keras.preprocessing.image\" not found!\n",
            "131856 WARNING: Hidden import \"tensorflow._api.v2.compat.v1.compat.v2.keras.preprocessing\" not found!\n",
            "132203 WARNING: Hidden import \"tensorflow._api.v2.compat.v1.compat.v2.keras.datasets.reuters\" not found!\n",
            "132204 WARNING: Hidden import \"tensorflow._api.v2.compat.v2.keras.datasets.mnist\" not found!\n",
            "132204 WARNING: Hidden import \"tensorflow._api.v2.compat.v1.compat.v2.keras.losses\" not found!\n",
            "132214 WARNING: Hidden import \"tensorflow._api.v2.compat.v1.keras.datasets.cifar100\" not found!\n",
            "132216 WARNING: Hidden import \"tensorflow._api.v2.compat.v2.compat.v2.keras.preprocessing.text\" not found!\n",
            "132217 WARNING: Hidden import \"tensorflow._api.v2.compat.v1.keras.applications.xception\" not found!\n",
            "132220 WARNING: Hidden import \"tensorflow._api.v2.compat.v1.compat.v2.keras\" not found!\n",
            "132221 WARNING: Hidden import \"tensorflow._api.v2.compat.v1.compat.v1.keras.layers.experimental\" not found!\n",
            "132221 WARNING: Hidden import \"tensorflow._api.v2.compat.v2.compat.v1.keras.backend\" not found!\n",
            "132288 WARNING: Hidden import \"tensorflow._api.v2.compat.v1.keras.constraints\" not found!\n",
            "132289 WARNING: Hidden import \"tensorflow._api.v2.compat.v1.compat.v2.keras.wrappers\" not found!\n",
            "132290 WARNING: Hidden import \"tensorflow._api.v2.compat.v2.compat.v2.keras.backend\" not found!\n",
            "132410 WARNING: Hidden import \"tensorflow._api.v2.compat.v2.compat.v2.keras.mixed_precision.experimental\" not found!\n",
            "132411 WARNING: Hidden import \"tensorflow._api.v2.compat.v1.compat.v2.keras.layers\" not found!\n",
            "132412 WARNING: Hidden import \"tensorflow._api.v2.compat.v1.compat.v2.keras.activations\" not found!\n",
            "132412 WARNING: Hidden import \"tensorflow._api.v2.compat.v1.compat.v1.estimator.export\" not found!\n",
            "132494 WARNING: Hidden import \"tensorflow._api.v2.compat.v1.compat.v1.estimator\" not found!\n",
            "132820 WARNING: Hidden import \"tensorflow._api.v2.compat.v2.compat.v2.estimator.inputs\" not found!\n",
            "132821 WARNING: Hidden import \"tensorflow._api.v2.compat.v2.keras.constraints\" not found!\n",
            "132822 WARNING: Hidden import \"tensorflow._api.v2.compat.v2.compat.v2.keras.initializers\" not found!\n",
            "132878 WARNING: Hidden import \"tensorflow._api.v2.compat.v2.compat.v1.keras.applications.efficientnet\" not found!\n",
            "132881 WARNING: Hidden import \"tensorflow._api.v2.compat.v2.keras.utils\" not found!\n",
            "132882 WARNING: Hidden import \"tensorflow._api.v2.compat.v1.compat.v2.keras.applications.xception\" not found!\n",
            "132892 WARNING: Hidden import \"tensorflow._api.v2.compat.v2.compat.v1.keras.layers.experimental.preprocessing\" not found!\n",
            "132892 WARNING: Hidden import \"tensorflow._api.v2.compat.v1.compat.v2.keras.regularizers\" not found!\n",
            "132893 WARNING: Hidden import \"tensorflow._api.v2.compat.v2.compat.v2.keras.wrappers\" not found!\n",
            "132893 WARNING: Hidden import \"tensorflow._api.v2.compat.v1.compat.v2.keras.datasets.boston_housing\" not found!\n",
            "132894 WARNING: Hidden import \"tensorflow._api.v2.compat.v1.keras.applications.vgg19\" not found!\n",
            "132895 WARNING: Hidden import \"tensorflow._api.v2.compat.v1.keras.datasets.cifar10\" not found!\n",
            "132896 WARNING: Hidden import \"tensorflow._api.v2.compat.v2.keras.layers\" not found!\n",
            "132903 WARNING: Hidden import \"tensorflow._api.v2.compat.v1.compat.v2.keras.datasets.cifar10\" not found!\n",
            "132903 WARNING: Hidden import \"tensorflow._api.v2.compat.v2.keras.optimizers.schedules\" not found!\n",
            "132914 WARNING: Hidden import \"tensorflow._api.v2.compat.v1.keras.applications.densenet\" not found!\n",
            "133053 WARNING: Hidden import \"tensorflow._api.v2.compat.v1.compat.v1.keras.backend\" not found!\n",
            "133059 WARNING: Hidden import \"tensorflow._api.v2.compat.v1.compat.v1.keras.applications.efficientnet\" not found!\n",
            "133059 WARNING: Hidden import \"tensorflow._api.v2.compat.v1.keras.optimizers\" not found!\n",
            "133074 WARNING: Hidden import \"tensorflow._api.v2.compat.v2.compat.v1.keras.applications.inception_resnet_v2\" not found!\n",
            "133075 WARNING: Hidden import \"tensorflow._api.v2.compat.v1.compat.v2.keras.estimator\" not found!\n",
            "133076 WARNING: Hidden import \"tensorflow._api.v2.compat.v1.keras.callbacks\" not found!\n",
            "133131 WARNING: Hidden import \"tensorflow._api.v2.compat.v1.estimator\" not found!\n",
            "133132 WARNING: Hidden import \"tensorflow._api.v2.compat.v1.compat.v1.keras.premade\" not found!\n",
            "133133 WARNING: Hidden import \"tensorflow._api.v2.compat.v2.compat.v2.keras\" not found!\n",
            "133133 WARNING: Hidden import \"tensorflow._api.v2.compat.v1.compat.v1.keras.optimizers\" not found!\n",
            "133264 WARNING: Hidden import \"tensorflow._api.v2.compat.v2.compat.v1.keras.experimental\" not found!\n",
            "133267 WARNING: Hidden import \"tensorflow._api.v2.compat.v2.keras.layers.experimental.preprocessing\" not found!\n",
            "133278 WARNING: Hidden import \"tensorflow._api.v2.compat.v2.keras.applications\" not found!\n",
            "133458 WARNING: Hidden import \"tensorflow._api.v2.compat.v2.compat.v2.keras.preprocessing.image\" not found!\n",
            "133462 WARNING: Hidden import \"tensorflow._api.v2.compat.v1.compat.v2.keras.applications.resnet\" not found!\n",
            "133758 WARNING: Hidden import \"tensorflow._api.v2.compat.v1.compat.v1.estimator.tpu.experimental\" not found!\n",
            "133759 WARNING: Hidden import \"tensorflow._api.v2.compat.v1.compat.v2.keras.initializers\" not found!\n",
            "133759 WARNING: Hidden import \"tensorflow._api.v2.compat.v1.compat.v2.keras.layers.experimental.preprocessing\" not found!\n",
            "133763 WARNING: Hidden import \"tensorflow._api.v2.compat.v1.keras.datasets.mnist\" not found!\n",
            "133764 WARNING: Hidden import \"tensorflow._api.v2.compat.v1.compat.v1.keras.applications.xception\" not found!\n",
            "133767 WARNING: Hidden import \"tensorflow._api.v2.compat.v1.compat.v1.keras.activations\" not found!\n",
            "133770 WARNING: Hidden import \"tensorflow._api.v2.compat.v2.compat.v2.keras.callbacks\" not found!\n",
            "133772 WARNING: Hidden import \"tensorflow._api.v2.compat.v1.compat.v1.keras.optimizers.schedules\" not found!\n",
            "133774 WARNING: Hidden import \"tensorflow._api.v2.compat.v2.compat.v2.keras.datasets\" not found!\n",
            "133777 WARNING: Hidden import \"tensorflow._api.v2.compat.v1.compat.v2.keras.datasets.fashion_mnist\" not found!\n",
            "133777 WARNING: Hidden import \"tensorflow._api.v2.compat.v2.compat.v1.keras.regularizers\" not found!\n",
            "133778 WARNING: Hidden import \"tensorflow._api.v2.compat.v2.compat.v2.keras.datasets.imdb\" not found!\n",
            "133893 WARNING: Hidden import \"tensorflow._api.v2.compat.v2.keras.premade\" not found!\n",
            "133896 WARNING: Hidden import \"tensorflow._api.v2.compat.v2.compat.v1.keras.applications.mobilenet_v2\" not found!\n",
            "133897 WARNING: Hidden import \"tensorflow._api.v2.compat.v1.compat.v2.estimator.inputs\" not found!\n",
            "133898 WARNING: Hidden import \"tensorflow._api.v2.compat.v2.compat.v2.keras.callbacks.experimental\" not found!\n",
            "133899 WARNING: Hidden import \"tensorflow._api.v2.compat.v1.compat.v2.keras.preprocessing.image\" not found!\n",
            "133899 WARNING: Hidden import \"tensorflow._api.v2.compat.v1.compat.v1.v1\" not found!\n",
            "133900 WARNING: Hidden import \"tensorflow._api.v2.compat.v2.compat.v1.estimator.tpu.experimental\" not found!\n",
            "133954 WARNING: Hidden import \"tensorflow._api.v2.compat.v2.keras.applications.nasnet\" not found!\n",
            "134015 WARNING: Hidden import \"tensorflow._api.v2.compat.v1.keras.applications.mobilenet\" not found!\n",
            "134043 WARNING: Hidden import \"tensorflow._api.v2.compat.v2.compat.v2.keras.applications.efficientnet\" not found!\n",
            "134043 WARNING: Hidden import \"tensorflow._api.v2.compat.v2.estimator\" not found!\n",
            "134044 WARNING: Hidden import \"tensorflow._api.v2.compat.v2.keras.preprocessing\" not found!\n",
            "134045 WARNING: Hidden import \"tensorflow._api.v2.compat.v1.keras.layers.experimental.preprocessing\" not found!\n",
            "134047 WARNING: Hidden import \"tensorflow._api.v2.compat.v1.keras.layers.experimental\" not found!\n",
            "134106 WARNING: Hidden import \"tensorflow._api.v2.compat.v2.keras\" not found!\n",
            "134106 WARNING: Hidden import \"tensorflow._api.v2.compat.v2.compat.v1.estimator\" not found!\n",
            "134107 WARNING: Hidden import \"tensorflow._api.v2.compat.v2.keras.applications.mobilenet\" not found!\n",
            "134115 WARNING: Hidden import \"tensorflow._api.v2.compat.v1.compat.v1.keras.preprocessing\" not found!\n",
            "134135 WARNING: Hidden import \"tensorflow._api.v2.compat.v2.compat.v2.summary\" not found!\n",
            "134135 WARNING: Hidden import \"tensorflow._api.v2.compat.v1.keras.models\" not found!\n",
            "134136 WARNING: Hidden import \"tensorflow._api.v2.compat.v1.keras.applications.imagenet_utils\" not found!\n",
            "134137 WARNING: Hidden import \"tensorflow._api.v2.compat.v2.compat.v1.keras.applications.resnet50\" not found!\n",
            "134137 WARNING: Hidden import \"tensorflow._api.v2.compat.v1.compat.v1.keras.mixed_precision.experimental\" not found!\n",
            "134137 WARNING: Hidden import \"tensorflow._api.v2.compat.v1.compat.v2.keras.callbacks.experimental\" not found!\n",
            "134194 WARNING: Hidden import \"tensorflow._api.v2.compat.v1.compat.v2.keras.callbacks\" not found!\n",
            "134195 WARNING: Hidden import \"tensorflow._api.v2.compat.v1.compat.v1.keras.datasets.mnist\" not found!\n",
            "134261 WARNING: Hidden import \"tensorflow._api.v2.compat.v2.keras.applications.efficientnet\" not found!\n",
            "134264 WARNING: Hidden import \"tensorflow._api.v2.compat.v1.compat.v2.keras.applications.nasnet\" not found!\n",
            "134304 WARNING: Hidden import \"tensorflow._api.v2.compat.v2.compat.v2.keras.applications.xception\" not found!\n",
            "134304 WARNING: Hidden import \"tensorflow._api.v2.compat.v2.compat.v1.keras.callbacks\" not found!\n",
            "134312 WARNING: Hidden import \"tensorflow._api.v2.compat.v2.keras.mixed_precision\" not found!\n",
            "134315 WARNING: Hidden import \"tensorflow._api.v2.compat.v2.keras.applications.densenet\" not found!\n",
            "134315 WARNING: Hidden import \"tensorflow._api.v2.compat.v1.keras.preprocessing\" not found!\n",
            "134319 WARNING: Hidden import \"tensorflow._api.v2.compat.v1.keras.premade\" not found!\n",
            "134451 WARNING: Hidden import \"tensorflow._api.v2.compat.v2.compat.v1.keras.metrics\" not found!\n",
            "134456 WARNING: Hidden import \"tensorflow._api.v2.compat.v1.compat.v1.keras.regularizers\" not found!\n",
            "134458 WARNING: Hidden import \"tensorflow._api.v2.compat.v1.compat.v2.keras.wrappers.scikit_learn\" not found!\n",
            "134459 WARNING: Hidden import \"tensorflow._api.v2.compat.v2.compat.v1.keras.datasets.boston_housing\" not found!\n",
            "134460 WARNING: Hidden import \"tensorflow._api.v2.compat.v2.keras.mixed_precision.experimental\" not found!\n",
            "134524 WARNING: Hidden import \"tensorflow._api.v2.compat.v1.compat.v2.keras.optimizers.schedules\" not found!\n",
            "134526 WARNING: Hidden import \"tensorflow._api.v2.compat.v2.compat.v1.keras.datasets.reuters\" not found!\n",
            "134643 WARNING: Hidden import \"tensorflow._api.v2.compat.v1.compat.v2.keras.applications.mobilenet_v2\" not found!\n",
            "134703 WARNING: Hidden import \"tensorflow._api.v2.compat.v1.compat.v1.keras.utils\" not found!\n",
            "134705 WARNING: Hidden import \"tensorflow._api.v2.compat.v2.keras.metrics\" not found!\n",
            "134712 WARNING: Hidden import \"tensorflow._api.v2.compat.v1.compat.v1.keras.applications.nasnet\" not found!\n",
            "134712 WARNING: Hidden import \"tensorflow._api.v2.compat.v2.compat.v1.keras.optimizers.schedules\" not found!\n",
            "134712 WARNING: Hidden import \"tensorflow._api.v2.compat.v1.keras.datasets.reuters\" not found!\n",
            "134726 WARNING: Hidden import \"tensorflow._api.v2.compat.v1.compat.v1.keras\" not found!\n",
            "134732 WARNING: Hidden import \"tensorflow._api.v2.compat.v2.compat.v1.keras.mixed_precision\" not found!\n",
            "134738 WARNING: Hidden import \"tensorflow._api.v2.compat.v2.compat.v2.keras.wrappers.scikit_learn\" not found!\n",
            "134743 WARNING: Hidden import \"tensorflow._api.v2.compat.v2.keras.datasets.fashion_mnist\" not found!\n",
            "134747 WARNING: Hidden import \"tensorflow._api.v2.compat.v1.compat.v1.keras.wrappers.scikit_learn\" not found!\n",
            "134748 WARNING: Hidden import \"tensorflow._api.v2.compat.v1.compat.v1.keras.experimental\" not found!\n",
            "134748 WARNING: Hidden import \"tensorflow._api.v2.compat.v2.compat.v1.keras.applications.imagenet_utils\" not found!\n",
            "134749 WARNING: Hidden import \"tensorflow._api.v2.compat.v2.keras.regularizers\" not found!\n",
            "134751 WARNING: Hidden import \"tensorflow._api.v2.compat.v1.compat.v1.estimator.inputs\" not found!\n",
            "134752 WARNING: Hidden import \"tensorflow._api.v2.compat.v2.keras.datasets.reuters\" not found!\n",
            "134765 WARNING: Hidden import \"tensorflow._api.v2.compat.v2.compat.v1.keras.applications.densenet\" not found!\n",
            "134770 WARNING: Hidden import \"tensorflow._api.v2.compat.v1.keras.estimator\" not found!\n",
            "134771 WARNING: Hidden import \"tensorflow._api.v2.compat.v2.compat.v1.keras.optimizers\" not found!\n",
            "134771 WARNING: Hidden import \"tensorflow._api.v2.compat.v1.compat.v1.keras.losses\" not found!\n",
            "134772 WARNING: Hidden import \"tensorflow._api.v2.compat.v1.keras.applications\" not found!\n",
            "134777 WARNING: Hidden import \"tensorflow._api.v2.compat.v1.compat.v2.keras.applications.resnet50\" not found!\n",
            "134799 WARNING: Hidden import \"tensorflow._api.v2.compat.v2.compat.v2.keras.utils\" not found!\n",
            "134799 WARNING: Hidden import \"tensorflow._api.v2.compat.v1.compat.v2.keras.backend\" not found!\n",
            "134800 WARNING: Hidden import \"tensorflow._api.v2.compat.v2.estimator.inputs\" not found!\n",
            "134802 WARNING: Hidden import \"tensorflow._api.v2.compat.v1.compat.v1.keras.callbacks\" not found!\n",
            "134810 WARNING: Hidden import \"tensorflow._api.v2.compat.v2.keras.optimizers\" not found!\n",
            "134811 WARNING: Hidden import \"tensorflow._api.v2.compat.v1.estimator.tpu\" not found!\n",
            "134816 WARNING: Hidden import \"tensorflow._api.v2.compat.v2.compat.v1.keras.wrappers.scikit_learn\" not found!\n",
            "134817 WARNING: Hidden import \"tensorflow._api.v2.compat.v1.compat.v1.keras.datasets.cifar100\" not found!\n",
            "134820 WARNING: Hidden import \"tensorflow._api.v2.compat.v2.compat.v1.keras.applications.vgg16\" not found!\n",
            "134820 WARNING: Hidden import \"tensorflow._api.v2.compat.v1.compat.v1.keras.initializers\" not found!\n",
            "134821 WARNING: Hidden import \"tensorflow._api.v2.compat.v1.compat.v2.keras.layers.experimental\" not found!\n",
            "134822 WARNING: Hidden import \"tensorflow._api.v2.compat.v2.compat.v2.keras.metrics\" not found!\n",
            "134852 WARNING: Hidden import \"tensorflow._api.v2.compat.v1.compat.v2.estimator.experimental\" not found!\n",
            "134853 WARNING: Hidden import \"tensorflow._api.v2.compat.v2.compat.v1.keras.datasets\" not found!\n",
            "134856 WARNING: Hidden import \"tensorflow._api.v2.compat.v2.keras.initializers\" not found!\n",
            "134859 WARNING: Hidden import \"tensorflow._api.v2.compat.v2.compat.v2.keras.models\" not found!\n",
            "134865 WARNING: Hidden import \"tensorflow._api.v2.compat.v1.keras.losses\" not found!\n",
            "134868 WARNING: Hidden import \"tensorflow._api.v2.compat.v1.compat.v2.keras.experimental\" not found!\n",
            "134869 WARNING: Hidden import \"tensorflow._api.v2.compat.v2.compat.v1.keras.callbacks.experimental\" not found!\n",
            "134870 WARNING: Hidden import \"tensorflow._api.v2.compat.v2.compat.v2.keras.datasets.reuters\" not found!\n",
            "134871 WARNING: Hidden import \"tensorflow._api.v2.compat.v1.keras.initializers\" not found!\n",
            "134871 WARNING: Hidden import \"tensorflow._api.v2.compat.v2.compat.v1.keras.applications.inception_v3\" not found!\n",
            "134880 WARNING: Hidden import \"tensorflow._api.v2.compat.v1.compat.v1.keras.applications.mobilenet_v2\" not found!\n",
            "134886 WARNING: Hidden import \"tensorflow._api.v2.compat.v1.compat.v1.keras.datasets.imdb\" not found!\n",
            "134891 WARNING: Hidden import \"tensorflow._api.v2.compat.v2.compat.v1.keras.datasets.cifar10\" not found!\n",
            "134891 WARNING: Hidden import \"tensorflow._api.v2.compat.v1.compat.v1.keras.applications.inception_resnet_v2\" not found!\n",
            "134891 WARNING: Hidden import \"tensorflow._api.v2.compat.v1.keras.datasets\" not found!\n",
            "134892 WARNING: Hidden import \"tensorflow._api.v2.compat.v1.compat.v2.v2\" not found!\n",
            "134899 WARNING: Hidden import \"tensorflow._api.v2.compat.v2.compat.v1.keras.applications.resnet_v2\" not found!\n",
            "134900 WARNING: Hidden import \"tensorflow._api.v2.compat.v1.keras.utils\" not found!\n",
            "134906 WARNING: Hidden import \"tensorflow._api.v2.compat.v2.estimator.export\" not found!\n",
            "134906 WARNING: Hidden import \"tensorflow._api.v2.compat.v2.v2\" not found!\n",
            "134907 WARNING: Hidden import \"tensorflow._api.v2.compat.v2.keras.applications.imagenet_utils\" not found!\n",
            "134908 WARNING: Hidden import \"tensorflow._api.v2.compat.v1.keras.applications.inception_resnet_v2\" not found!\n",
            "134908 WARNING: Hidden import \"tensorflow._api.v2.compat.v1.keras.wrappers\" not found!\n",
            "134909 WARNING: Hidden import \"tensorflow._api.v2.compat.v1.compat.v1.estimator.experimental\" not found!\n",
            "134959 WARNING: Hidden import \"tensorflow._api.v2.compat.v1.compat.v1.keras.layers\" not found!\n",
            "134960 WARNING: Hidden import \"tensorflow._api.v2.compat.v1.compat.v2.keras.datasets.imdb\" not found!\n",
            "134964 WARNING: Hidden import \"tensorflow._api.v2.compat.v1.compat.v1.keras.callbacks.experimental\" not found!\n",
            "134968 WARNING: Hidden import \"tensorflow._api.v2.compat.v1.keras.mixed_precision\" not found!\n",
            "134977 WARNING: Hidden import \"tensorflow._api.v2.compat.v2.keras.applications.vgg16\" not found!\n",
            "134978 WARNING: Hidden import \"tensorflow._api.v2.compat.v1.compat.v2.keras.datasets.cifar100\" not found!\n",
            "134979 WARNING: Hidden import \"tensorflow._api.v2.compat.v2.compat.v1.keras.preprocessing.text\" not found!\n",
            "134980 WARNING: Hidden import \"tensorflow._api.v2.compat.v2.keras.preprocessing.image\" not found!\n",
            "134981 WARNING: Hidden import \"tensorflow._api.v2.compat.v2.keras.backend\" not found!\n",
            "134984 WARNING: Hidden import \"tensorflow._api.v2.compat.v2.compat.v2.keras.preprocessing.sequence\" not found!\n",
            "134987 WARNING: Hidden import \"tensorflow._api.v2.compat.v2.compat.v1.keras.applications.resnet\" not found!\n",
            "134988 WARNING: Hidden import \"tensorflow._api.v2.compat.v1.compat.v2.keras.premade\" not found!\n",
            "134989 WARNING: Hidden import \"tensorflow._api.v2.compat.v1.keras.callbacks.experimental\" not found!\n",
            "135003 WARNING: Hidden import \"tensorflow._api.v2.compat.v1.keras.applications.inception_v3\" not found!\n",
            "135003 WARNING: Hidden import \"tensorflow._api.v2.compat.v1.keras.preprocessing.text\" not found!\n",
            "135012 WARNING: Hidden import \"tensorflow._api.v2.compat.v2.compat.v2.keras.applications.resnet_v2\" not found!\n",
            "135012 WARNING: Hidden import \"tensorflow._api.v2.compat.v2.compat.v2.keras.experimental\" not found!\n",
            "135014 WARNING: Hidden import \"tensorflow._api.v2.compat.v1.compat.v1.estimator.tpu\" not found!\n",
            "135018 WARNING: Hidden import \"tensorflow._api.v2.compat.v2.compat.v2.keras.mixed_precision\" not found!\n",
            "135022 WARNING: Hidden import \"tensorflow._api.v2.compat.v1.compat.v2.estimator.export\" not found!\n",
            "135022 WARNING: Hidden import \"tensorflow._api.v2.compat.v2.compat.v2.keras.datasets.cifar10\" not found!\n",
            "135143 WARNING: Hidden import \"tensorflow._api.v2.compat.v2.keras.preprocessing.sequence\" not found!\n",
            "135146 WARNING: Hidden import \"tensorflow._api.v2.compat.v2.compat.v1.keras.premade\" not found!\n",
            "135147 WARNING: Hidden import \"tensorflow._api.v2.compat.v2.compat.v1.keras.applications.mobilenet\" not found!\n",
            "135150 WARNING: Hidden import \"tensorflow._api.v2.compat.v2.compat.v1.keras.constraints\" not found!\n",
            "135156 WARNING: Hidden import \"tensorflow._api.v2.compat.v2.compat.v1.keras.estimator\" not found!\n",
            "135183 WARNING: Hidden import \"tensorflow._api.v2.compat.v2.compat.v2.keras.datasets.boston_housing\" not found!\n",
            "135184 WARNING: Hidden import \"tensorflow._api.v2.compat.v1.keras.optimizers.schedules\" not found!\n",
            "135188 WARNING: Hidden import \"tensorflow._api.v2.compat.v1.compat.v2.keras.datasets\" not found!\n",
            "135194 WARNING: Hidden import \"tensorflow._api.v2.compat.v1.compat.v2.keras.applications.inception_resnet_v2\" not found!\n",
            "135222 WARNING: Hidden import \"tensorflow._api.v2.compat.v2.compat.v1.keras.applications.nasnet\" not found!\n",
            "135222 WARNING: Hidden import \"tensorflow._api.v2.compat.v1.compat.v2.keras.datasets.mnist\" not found!\n",
            "135224 WARNING: Hidden import \"tensorflow._api.v2.compat.v2.compat.v2.keras.activations\" not found!\n",
            "135225 WARNING: Hidden import \"tensorflow._api.v2.compat.v2.compat.v2.keras.datasets.fashion_mnist\" not found!\n",
            "135227 WARNING: Hidden import \"tensorflow._api.v2.compat.v1.keras.applications.resnet\" not found!\n",
            "135235 WARNING: Hidden import \"tensorflow._api.v2.compat.v2.keras.layers.experimental\" not found!\n",
            "135392 WARNING: Hidden import \"tensorflow._api.v2.compat.v2.compat.v1.keras.mixed_precision.experimental\" not found!\n",
            "135397 WARNING: Hidden import \"tensorflow._api.v2.compat.v2.compat.v1.keras.applications.vgg19\" not found!\n",
            "135398 WARNING: Hidden import \"tensorflow._api.v2.compat.v2.compat.v1.keras.losses\" not found!\n",
            "135401 WARNING: Hidden import \"tensorflow._api.v2.compat.v1.keras\" not found!\n",
            "135403 WARNING: Hidden import \"tensorflow._api.v2.compat.v2.compat.v1.keras.wrappers\" not found!\n",
            "135406 WARNING: Hidden import \"tensorflow._api.v2.compat.v2.compat.v1.estimator.tpu\" not found!\n",
            "135411 WARNING: Hidden import \"tensorflow._api.v2.compat.v2.compat.v1.keras.layers.experimental\" not found!\n",
            "135412 WARNING: Hidden import \"tensorflow._api.v2.compat.v1.estimator.inputs\" not found!\n",
            "135412 WARNING: Hidden import \"tensorflow._api.v2.compat.v1.estimator.tpu.experimental\" not found!\n",
            "135415 WARNING: Hidden import \"tensorflow._api.v2.compat.v2.compat.v1.keras.datasets.cifar100\" not found!\n",
            "135419 WARNING: Hidden import \"tensorflow._api.v2.compat.v1.compat.v2.keras.metrics\" not found!\n",
            "135421 WARNING: Hidden import \"tensorflow._api.v2.compat.v2.compat.v2.estimator.export\" not found!\n",
            "135422 WARNING: Hidden import \"tensorflow._api.v2.compat.v2.compat.v1.keras.applications\" not found!\n",
            "135426 WARNING: Hidden import \"tensorflow._api.v2.compat.v2.keras.estimator\" not found!\n",
            "135427 WARNING: Hidden import \"tensorflow._api.v2.compat.v2.keras.applications.inception_resnet_v2\" not found!\n",
            "135428 WARNING: Hidden import \"tensorflow._api.v2.compat.v2.compat.v1.keras.datasets.mnist\" not found!\n",
            "135429 WARNING: Hidden import \"tensorflow._api.v2.compat.v1.compat.v1.keras.estimator\" not found!\n",
            "135430 WARNING: Hidden import \"tensorflow._api.v2.compat.v2.keras.wrappers\" not found!\n",
            "135437 WARNING: Hidden import \"tensorflow._api.v2.compat.v2.compat.v2.keras.layers.experimental.preprocessing\" not found!\n",
            "135439 WARNING: Hidden import \"tensorflow._api.v2.compat.v2.compat.v2.keras.estimator\" not found!\n",
            "135448 WARNING: Hidden import \"tensorflow._api.v2.compat.v2.keras.datasets.boston_housing\" not found!\n",
            "135460 WARNING: Hidden import \"tensorflow._api.v2.compat.v1.compat.v2.keras.applications.vgg19\" not found!\n",
            "135460 WARNING: Hidden import \"tensorflow._api.v2.compat.v1.compat.v2.keras.utils\" not found!\n",
            "135466 WARNING: Hidden import \"tensorflow._api.v2.compat.v1.compat.v1.keras.datasets.cifar10\" not found!\n",
            "135466 WARNING: Hidden import \"tensorflow._api.v2.compat.v2.compat.v2.keras.datasets.cifar100\" not found!\n",
            "135480 WARNING: Hidden import \"tensorflow._api.v2.compat.v2.compat.v1.keras.initializers\" not found!\n",
            "135480 WARNING: Hidden import \"tensorflow._api.v2.compat.v2.keras.callbacks\" not found!\n",
            "135500 WARNING: Hidden import \"tensorflow._api.v2.compat.v1.compat.v1.keras.applications.resnet50\" not found!\n",
            "135504 WARNING: Hidden import \"tensorflow._api.v2.compat.v1.compat.v2.keras.preprocessing.sequence\" not found!\n",
            "135507 WARNING: Hidden import \"tensorflow._api.v2.compat.v2.keras.datasets\" not found!\n",
            "135512 WARNING: Hidden import \"tensorflow._api.v2.compat.v1.compat.v1.keras.datasets.reuters\" not found!\n",
            "135517 WARNING: Hidden import \"tensorflow._api.v2.compat.v1.compat.v2.keras.applications.vgg16\" not found!\n",
            "135521 WARNING: Hidden import \"tensorflow._api.v2.compat.v1.compat.v2.keras.applications.inception_v3\" not found!\n",
            "135526 WARNING: Hidden import \"tensorflow._api.v2.compat.v2.keras.losses\" not found!\n",
            "135527 WARNING: Hidden import \"tensorflow._api.v2.compat.v1.keras.datasets.imdb\" not found!\n",
            "135528 WARNING: Hidden import \"tensorflow._api.v2.compat.v2.compat.v2.keras.preprocessing\" not found!\n",
            "135532 WARNING: Hidden import \"tensorflow._api.v2.compat.v2.keras.wrappers.scikit_learn\" not found!\n",
            "135537 WARNING: Hidden import \"tensorflow._api.v2.compat.v2.compat.v2.keras.optimizers\" not found!\n",
            "135538 WARNING: Hidden import \"tensorflow._api.v2.compat.v1.compat.v1.keras.layers.experimental.preprocessing\" not found!\n",
            "135539 WARNING: Hidden import \"tensorflow._api.v2.compat.v2.compat.v1.estimator.export\" not found!\n",
            "135540 WARNING: Hidden import \"tensorflow._api.v2.compat.v2.compat.v2.v2\" not found!\n",
            "135541 WARNING: Hidden import \"tensorflow._api.v2.compat.v2.compat.v2.estimator\" not found!\n",
            "135542 WARNING: Hidden import \"tensorflow._api.v2.compat.v1.compat.v2.keras.mixed_precision\" not found!\n",
            "135545 WARNING: Hidden import \"tensorflow._api.v2.compat.v1.compat.v1.keras.mixed_precision\" not found!\n",
            "135572 WARNING: Hidden import \"tensorflow._api.v2.compat.v2.keras.applications.resnet_v2\" not found!\n",
            "135580 WARNING: Hidden import \"tensorflow._api.v2.compat.v2.compat.v2.keras.datasets.mnist\" not found!\n",
            "135587 WARNING: Hidden import \"tensorflow._api.v2.compat.v2.keras.datasets.cifar100\" not found!\n",
            "135604 WARNING: Hidden import \"tensorflow._api.v2.compat.v1.compat.v2.keras.preprocessing.text\" not found!\n",
            "135604 WARNING: Hidden import \"tensorflow._api.v2.compat.v1.compat.v2.keras.applications.mobilenet\" not found!\n",
            "135607 WARNING: Hidden import \"tensorflow._api.v2.compat.v2.estimator.experimental\" not found!\n",
            "135610 WARNING: Hidden import \"tensorflow._api.v2.compat.v2.compat.v2.keras.applications.resnet\" not found!\n",
            "135610 WARNING: Hidden import \"tensorflow._api.v2.compat.v2.compat.v2.keras.applications.mobilenet_v2\" not found!\n",
            "135611 WARNING: Hidden import \"tensorflow._api.v2.compat.v1.compat.v2.keras.models\" not found!\n",
            "135611 WARNING: Hidden import \"tensorflow._api.v2.compat.v2.keras.experimental\" not found!\n",
            "135616 WARNING: Hidden import \"tensorflow._api.v2.compat.v2.keras.callbacks.experimental\" not found!\n",
            "135618 WARNING: Hidden import \"tensorflow._api.v2.compat.v1.keras.mixed_precision.experimental\" not found!\n",
            "135624 WARNING: Hidden import \"tensorflow._api.v2.compat.v1.compat.v2.keras.applications.efficientnet\" not found!\n",
            "135627 WARNING: Hidden import \"tensorflow._api.v2.compat.v2.compat.v2.keras.applications.densenet\" not found!\n",
            "135627 WARNING: Hidden import \"tensorflow._api.v2.compat.v1.compat.v1.keras.datasets\" not found!\n",
            "135686 WARNING: Hidden import \"tensorflow._api.v2.compat.v1.compat.v2.keras.constraints\" not found!\n",
            "135689 WARNING: Hidden import \"tensorflow._api.v2.compat.v2.keras.applications.vgg19\" not found!\n",
            "135753 WARNING: Hidden import \"tensorflow._api.v2.compat.v1.compat.v2.keras.applications.densenet\" not found!\n",
            "135754 WARNING: Hidden import \"tensorflow._api.v2.compat.v2.compat.v2.keras.applications.imagenet_utils\" not found!\n",
            "135778 WARNING: Hidden import \"tensorflow._api.v2.compat.v1.keras.wrappers.scikit_learn\" not found!\n",
            "135782 WARNING: Hidden import \"tensorflow._api.v2.compat.v2.compat.v1.keras.preprocessing.sequence\" not found!\n",
            "135786 WARNING: Hidden import \"tensorflow._api.v2.compat.v2.compat.v2.keras.constraints\" not found!\n",
            "135787 WARNING: Hidden import \"tensorflow._api.v2.compat.v1.compat.v1.keras.metrics\" not found!\n",
            "135794 WARNING: Hidden import \"tensorflow._api.v2.compat.v2.compat.v2.keras.premade\" not found!\n",
            "135797 WARNING: Hidden import \"tensorflow._api.v2.compat.v2.compat.v1.keras.preprocessing\" not found!\n",
            "135799 WARNING: Hidden import \"tensorflow._api.v2.compat.v1.compat.v1.keras.datasets.boston_housing\" not found!\n",
            "135799 WARNING: Hidden import \"tensorflow._api.v2.compat.v1.compat.v1.keras.applications.resnet\" not found!\n",
            "135800 WARNING: Hidden import \"tensorflow._api.v2.compat.v1.compat.v1.keras.applications.vgg16\" not found!\n",
            "135801 WARNING: Hidden import \"tensorflow._api.v2.compat.v1.estimator.export\" not found!\n",
            "135802 WARNING: Hidden import \"tensorflow._api.v2.compat.v1.compat.v2.estimator\" not found!\n",
            "135803 WARNING: Hidden import \"tensorflow._api.v2.compat.v2.keras.applications.resnet50\" not found!\n",
            "135806 WARNING: Hidden import \"tensorflow._api.v2.compat.v1.keras.experimental\" not found!\n",
            "135806 WARNING: Hidden import \"tensorflow._api.v2.compat.v2.keras.applications.inception_v3\" not found!\n",
            "135806 WARNING: Hidden import \"tensorflow._api.v2.compat.v1.keras.applications.resnet50\" not found!\n",
            "135806 WARNING: Hidden import \"tensorflow._api.v2.compat.v1.keras.regularizers\" not found!\n",
            "135888 WARNING: Hidden import \"tensorflow._api.v2.compat.v1.keras.datasets.boston_housing\" not found!\n",
            "135889 WARNING: Hidden import \"tensorflow._api.v2.compat.v2.compat.v2.keras.layers\" not found!\n",
            "135890 WARNING: Hidden import \"tensorflow._api.v2.compat.v2.keras.datasets.cifar10\" not found!\n",
            "135895 WARNING: Hidden import \"tensorflow._api.v2.compat.v1.compat.v1.keras.preprocessing.text\" not found!\n",
            "135903 WARNING: Hidden import \"tensorflow._api.v2.compat.v1.keras.metrics\" not found!\n",
            "135903 WARNING: Hidden import \"tensorflow._api.v2.compat.v1.keras.applications.resnet_v2\" not found!\n",
            "135967 INFO: Loading module hook 'hook-jinja2.py' from '/usr/local/lib/python3.7/dist-packages/_pyinstaller_hooks_contrib/hooks/stdhooks'...\n",
            "135984 INFO: Loading module hook 'hook-nbconvert.py' from '/usr/local/lib/python3.7/dist-packages/_pyinstaller_hooks_contrib/hooks/stdhooks'...\n",
            "136032 INFO: Loading module hook 'hook-certifi.py' from '/usr/local/lib/python3.7/dist-packages/_pyinstaller_hooks_contrib/hooks/stdhooks'...\n",
            "136034 INFO: Loading module hook 'hook-astor.py' from '/usr/local/lib/python3.7/dist-packages/_pyinstaller_hooks_contrib/hooks/stdhooks'...\n",
            "136035 INFO: Loading module hook 'hook-google.api_core.py' from '/usr/local/lib/python3.7/dist-packages/_pyinstaller_hooks_contrib/hooks/stdhooks'...\n",
            "136036 INFO: Loading module hook 'hook-xml.dom.domreg.py' from '/usr/local/lib/python3.7/dist-packages/PyInstaller/hooks'...\n",
            "136036 INFO: Loading module hook 'hook-sqlalchemy.py' from '/usr/local/lib/python3.7/dist-packages/PyInstaller/hooks'...\n",
            "136295 WARNING: Hidden import \"MySQLdb\" not found!\n",
            "139007 INFO: Loading module hook 'hook-scipy.spatial.transform.rotation.py' from '/usr/local/lib/python3.7/dist-packages/PyInstaller/hooks'...\n",
            "139008 INFO: Loading module hook 'hook-gi.py' from '/usr/local/lib/python3.7/dist-packages/PyInstaller/hooks'...\n",
            "139020 INFO: Loading module hook 'hook-sqlite3.py' from '/usr/local/lib/python3.7/dist-packages/PyInstaller/hooks'...\n",
            "139073 INFO: Loading module hook 'hook-pkg_resources.py' from '/usr/local/lib/python3.7/dist-packages/PyInstaller/hooks'...\n",
            "139665 INFO: Processing pre-safe import module hook win32com from '/usr/local/lib/python3.7/dist-packages/_pyinstaller_hooks_contrib/hooks/pre_safe_import_module/hook-win32com.py'.\n",
            "139806 WARNING: Hidden import \"pkg_resources.py2_warn\" not found!\n",
            "139921 WARNING: Hidden import \"pkg_resources.markers\" not found!\n",
            "139937 INFO: Loading module hook 'hook-numpy._pytesttester.py' from '/usr/local/lib/python3.7/dist-packages/PyInstaller/hooks'...\n",
            "139947 INFO: Loading module hook 'hook-scipy.py' from '/usr/local/lib/python3.7/dist-packages/PyInstaller/hooks'...\n",
            "139947 INFO: Loading module hook 'hook-distutils.util.py' from '/usr/local/lib/python3.7/dist-packages/PyInstaller/hooks'...\n",
            "139958 INFO: Loading module hook 'hook-lib2to3.py' from '/usr/local/lib/python3.7/dist-packages/PyInstaller/hooks'...\n",
            "139972 INFO: Loading module hook 'hook-scipy.sparse.csgraph.py' from '/usr/local/lib/python3.7/dist-packages/PyInstaller/hooks'...\n",
            "139974 INFO: Loading module hook 'hook-sysconfig.py' from '/usr/local/lib/python3.7/dist-packages/PyInstaller/hooks'...\n",
            "139981 INFO: Loading module hook 'hook-setuptools.py' from '/usr/local/lib/python3.7/dist-packages/PyInstaller/hooks'...\n",
            "140758 INFO: Import to be excluded not found: 'setuptools.py33compat'\n",
            "140758 INFO: Import to be excluded not found: 'setuptools.py27compat'\n",
            "140758 INFO: Loading module hook 'hook-PIL.py' from '/usr/local/lib/python3.7/dist-packages/PyInstaller/hooks'...\n",
            "140776 INFO: Import to be excluded not found: 'FixTk'\n",
            "140776 INFO: Loading module hook 'hook-scipy.special._ufuncs.py' from '/usr/local/lib/python3.7/dist-packages/PyInstaller/hooks'...\n",
            "140777 INFO: Loading module hook 'hook-matplotlib.py' from '/usr/local/lib/python3.7/dist-packages/PyInstaller/hooks'...\n",
            "Traceback (most recent call last):\n",
            "  File \"<string>\", line 1, in <module>\n",
            "  File \"/usr/local/lib/python3.7/dist-packages/matplotlib/__init__.py\", line 1015, in <module>\n",
            "    rcParams = rc_params()\n",
            "  File \"/usr/local/lib/python3.7/dist-packages/matplotlib/__init__.py\", line 878, in rc_params\n",
            "    return rc_params_from_file(matplotlib_fname(), fail_on_error)\n",
            "  File \"/usr/local/lib/python3.7/dist-packages/matplotlib/__init__.py\", line 731, in matplotlib_fname\n",
            "    for fname in gen_candidates():\n",
            "  File \"/usr/local/lib/python3.7/dist-packages/matplotlib/__init__.py\", line 728, in gen_candidates\n",
            "    yield os.path.join(get_configdir(), 'matplotlibrc')\n",
            "  File \"/usr/local/lib/python3.7/dist-packages/matplotlib/__init__.py\", line 276, in wrapper\n",
            "    ret = func(**kwargs)\n",
            "  File \"/usr/local/lib/python3.7/dist-packages/matplotlib/__init__.py\", line 609, in get_configdir\n",
            "    return _get_config_or_cache_dir(_get_xdg_config_dir())\n",
            "  File \"/usr/local/lib/python3.7/dist-packages/matplotlib/__init__.py\", line 562, in _get_xdg_config_dir\n",
            "    return os.environ.get('XDG_CONFIG_HOME') or str(Path.home() / \".config\")\n",
            "AttributeError: type object 'Path' has no attribute 'home'\n",
            "Traceback (most recent call last):\n",
            "  File \"/usr/local/bin/pyinstaller\", line 8, in <module>\n",
            "    sys.exit(run())\n",
            "  File \"/usr/local/lib/python3.7/dist-packages/PyInstaller/__main__.py\", line 114, in run\n",
            "    run_build(pyi_config, spec_file, **vars(args))\n",
            "  File \"/usr/local/lib/python3.7/dist-packages/PyInstaller/__main__.py\", line 65, in run_build\n",
            "    PyInstaller.building.build_main.main(pyi_config, spec_file, **kwargs)\n",
            "  File \"/usr/local/lib/python3.7/dist-packages/PyInstaller/building/build_main.py\", line 737, in main\n",
            "    build(specfile, kw.get('distpath'), kw.get('workpath'), kw.get('clean_build'))\n",
            "  File \"/usr/local/lib/python3.7/dist-packages/PyInstaller/building/build_main.py\", line 684, in build\n",
            "    exec(code, spec_namespace)\n",
            "  File \"/content/Handwriting-Generation-using-Supervised-Learning/inference.spec\", line 18, in <module>\n",
            "    noarchive=False)\n",
            "  File \"/usr/local/lib/python3.7/dist-packages/PyInstaller/building/build_main.py\", line 242, in __init__\n",
            "    self.__postinit__()\n",
            "  File \"/usr/local/lib/python3.7/dist-packages/PyInstaller/building/datastruct.py\", line 160, in __postinit__\n",
            "    self.assemble()\n",
            "  File \"/usr/local/lib/python3.7/dist-packages/PyInstaller/building/build_main.py\", line 420, in assemble\n",
            "    self.graph.process_post_graph_hooks()\n",
            "  File \"/usr/local/lib/python3.7/dist-packages/PyInstaller/depend/analysis.py\", line 367, in process_post_graph_hooks\n",
            "    module_hook.post_graph()\n",
            "  File \"/usr/local/lib/python3.7/dist-packages/PyInstaller/depend/imphook.py\", line 447, in post_graph\n",
            "    self._load_hook_module()\n",
            "  File \"/usr/local/lib/python3.7/dist-packages/PyInstaller/depend/imphook.py\", line 409, in _load_hook_module\n",
            "    self.hook_module_name, self.hook_filename)\n",
            "  File \"/usr/local/lib/python3.7/dist-packages/PyInstaller/compat.py\", line 605, in importlib_load_source\n",
            "    return mod_loader.load_module()\n",
            "  File \"<frozen importlib._bootstrap_external>\", line 407, in _check_name_wrapper\n",
            "  File \"<frozen importlib._bootstrap_external>\", line 907, in load_module\n",
            "  File \"<frozen importlib._bootstrap_external>\", line 732, in load_module\n",
            "  File \"<frozen importlib._bootstrap>\", line 265, in _load_module_shim\n",
            "  File \"<frozen importlib._bootstrap>\", line 696, in _load\n",
            "  File \"<frozen importlib._bootstrap>\", line 677, in _load_unlocked\n",
            "  File \"<frozen importlib._bootstrap_external>\", line 728, in exec_module\n",
            "  File \"<frozen importlib._bootstrap>\", line 219, in _call_with_frames_removed\n",
            "  File \"/usr/local/lib/python3.7/dist-packages/PyInstaller/hooks/hook-matplotlib.py\", line 17, in <module>\n",
            "    assert mpl_data_dir, \"Failed to determine matplotlib's data directory!\"\n",
            "AssertionError: Failed to determine matplotlib's data directory!\n"
          ],
          "name": "stdout"
        }
      ]
    },
    {
      "cell_type": "code",
      "metadata": {
        "id": "HDFqkqvMisgn",
        "colab": {
          "base_uri": "https://localhost:8080/"
        },
        "outputId": "0ab1c1f9-afba-4f10-d9e4-3977b03a673e"
      },
      "source": [
        "pip install py2exe"
      ],
      "execution_count": 7,
      "outputs": [
        {
          "output_type": "stream",
          "text": [
            "Collecting py2exe\n",
            "\u001b[?25l  Downloading https://files.pythonhosted.org/packages/48/30/4714231ea6e8f40b4728678c94b219b40c93431088ae55bd9db48ce701a9/py2exe-0.10.4.0.tar.gz (109kB)\n",
            "\r\u001b[K     |███                             | 10kB 19.8MB/s eta 0:00:01\r\u001b[K     |██████                          | 20kB 26.9MB/s eta 0:00:01\r\u001b[K     |█████████                       | 30kB 20.4MB/s eta 0:00:01\r\u001b[K     |████████████                    | 40kB 19.7MB/s eta 0:00:01\r\u001b[K     |███████████████                 | 51kB 20.4MB/s eta 0:00:01\r\u001b[K     |██████████████████              | 61kB 15.8MB/s eta 0:00:01\r\u001b[K     |█████████████████████           | 71kB 16.5MB/s eta 0:00:01\r\u001b[K     |████████████████████████        | 81kB 16.9MB/s eta 0:00:01\r\u001b[K     |███████████████████████████     | 92kB 15.4MB/s eta 0:00:01\r\u001b[K     |██████████████████████████████  | 102kB 16.5MB/s eta 0:00:01\r\u001b[K     |████████████████████████████████| 112kB 16.5MB/s \n",
            "\u001b[31mERROR: Command errored out with exit status 1: python setup.py egg_info Check the logs for full command output.\u001b[0m\n",
            "\u001b[?25h"
          ],
          "name": "stdout"
        }
      ]
    },
    {
      "cell_type": "code",
      "metadata": {
        "colab": {
          "base_uri": "https://localhost:8080/"
        },
        "id": "FqWTO_fZX596",
        "outputId": "13320882-88e4-4f75-ad87-1ec1b4bedec7"
      },
      "source": [
        "!pip install --no-use-pep517 pyinstaller"
      ],
      "execution_count": 11,
      "outputs": [
        {
          "output_type": "stream",
          "text": [
            "Collecting pyinstaller\n",
            "\u001b[?25l  Downloading https://files.pythonhosted.org/packages/b6/27/a006fcadba0db30819c968eb8decb4937cda398ca7a44d8874172cdc228a/pyinstaller-4.3.tar.gz (3.7MB)\n",
            "\u001b[K     |████████████████████████████████| 3.7MB 16.6MB/s \n",
            "\u001b[?25hRequirement already satisfied: setuptools in /usr/local/lib/python3.7/dist-packages (from pyinstaller) (56.0.0)\n",
            "Collecting altgraph\n",
            "  Downloading https://files.pythonhosted.org/packages/ee/3d/bfca21174b162f6ce674953f1b7a640c1498357fa6184776029557c25399/altgraph-0.17-py2.py3-none-any.whl\n",
            "Collecting pyinstaller-hooks-contrib>=2020.6\n",
            "\u001b[?25l  Downloading https://files.pythonhosted.org/packages/27/c7/58a634d861e4744ac62dca4a4992ace8def8b05dab91e6b25e5043e79acf/pyinstaller_hooks_contrib-2021.1-py2.py3-none-any.whl (181kB)\n",
            "\u001b[K     |████████████████████████████████| 184kB 47.5MB/s \n",
            "\u001b[?25hRequirement already satisfied: importlib-metadata in /usr/local/lib/python3.7/dist-packages (from pyinstaller) (3.10.1)\n",
            "Requirement already satisfied: typing-extensions>=3.6.4; python_version < \"3.8\" in /usr/local/lib/python3.7/dist-packages (from importlib-metadata->pyinstaller) (3.7.4.3)\n",
            "Requirement already satisfied: zipp>=0.5 in /usr/local/lib/python3.7/dist-packages (from importlib-metadata->pyinstaller) (3.4.1)\n",
            "Building wheels for collected packages: pyinstaller\n",
            "  Building wheel for pyinstaller (setup.py) ... \u001b[?25l\u001b[?25hdone\n",
            "  Created wheel for pyinstaller: filename=pyinstaller-4.3-cp37-none-any.whl size=2457298 sha256=8c430858dd6158c2d99e4861a64e1123574ba1eb4b6cbe45b08bbb078765a48e\n",
            "  Stored in directory: /root/.cache/pip/wheels/4e/d9/60/db7ac8941a22cb24131ec3cf40d094b9984518671f85b93780\n",
            "Successfully built pyinstaller\n",
            "Installing collected packages: altgraph, pyinstaller-hooks-contrib, pyinstaller\n",
            "Successfully installed altgraph-0.17 pyinstaller-4.3 pyinstaller-hooks-contrib-2021.1\n"
          ],
          "name": "stdout"
        }
      ]
    },
    {
      "cell_type": "code",
      "metadata": {
        "id": "igK4R9V4Yg40"
      },
      "source": [
        ""
      ],
      "execution_count": null,
      "outputs": []
    }
  ]
}